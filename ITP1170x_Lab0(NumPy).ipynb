{
  "nbformat": 4,
  "nbformat_minor": 0,
  "metadata": {
    "colab": {
      "name": "ITP117_Lab4(For TA).ipynb",
      "provenance": [],
      "include_colab_link": true
    },
    "kernelspec": {
      "display_name": "Python 3",
      "language": "python",
      "name": "python3"
    }
  },
  "cells": [
    {
      "cell_type": "markdown",
      "metadata": {
        "id": "view-in-github",
        "colab_type": "text"
      },
      "source": [
        "<a href=\"https://colab.research.google.com/github/ChangJooOh/AIP2/blob/master/ITP1170x_Lab0(NumPy).ipynb\" target=\"_parent\"><img src=\"https://colab.research.google.com/assets/colab-badge.svg\" alt=\"Open In Colab\"/></a>"
      ]
    },
    {
      "cell_type": "markdown",
      "metadata": {
        "id": "OfTs6pPr3vxC",
        "colab_type": "text"
      },
      "source": [
        "# ITP11701 Introduction to AI Programming II, Fall 2020\n",
        "Practice: NumPy arrays (September.09)"
      ]
    },
    {
      "cell_type": "markdown",
      "metadata": {
        "id": "tISBjbDG3vxE",
        "colab_type": "text"
      },
      "source": [
        "## Goals \n",
        "   In this Lab session, you practice writing Python NumPy moudle \n",
        "   Most of the statistical analysis which needs data to be stored in memory uses NumPy. \n",
        "   You will be looking into the following topics in here."
      ]
    },
    {
      "cell_type": "markdown",
      "metadata": {
        "id": "5g782FkM3vxG",
        "colab_type": "text"
      },
      "source": [
        "Issues covered:\n",
        "  1. Why NumPy and Not Python lists\n",
        "  2. How to create NumPy Arrays\n",
        "  3. Create N-Dimensional Array\n",
        "  4. Mathematical Operations and Array Calculations "
      ]
    },
    {
      "cell_type": "markdown",
      "metadata": {
        "id": "OcTPhhq73vxH",
        "colab_type": "text"
      },
      "source": [
        "## 1. Why NumPy and Not Python lists\n",
        "   "
      ]
    },
    {
      "cell_type": "markdown",
      "metadata": {
        "id": "kwZ0CRP23vxL",
        "colab_type": "text"
      },
      "source": [
        "NumPy provides efficient storage and better ways of handling data for Mathematical Operations.\n",
        "\n",
        "NumPy is the fundamental package for scientific computing with Python. Extremely useful!!\n",
        "\n",
        "links used:\n",
        "https://docs.scipy.org/doc/numpy/reference/arrays.indexing.html    "
      ]
    },
    {
      "cell_type": "markdown",
      "metadata": {
        "id": "Tel1cacc3vxM",
        "colab_type": "text"
      },
      "source": [
        "## 2. How to create NumPy Arrays"
      ]
    },
    {
      "cell_type": "markdown",
      "metadata": {
        "id": "uMbZhX_B3vxO",
        "colab_type": "text"
      },
      "source": [
        " - import the \"numpy\" library as \"np\""
      ]
    },
    {
      "cell_type": "code",
      "metadata": {
        "id": "y9pBhU7d3vxP",
        "colab_type": "code",
        "colab": {
          "base_uri": "https://localhost:8080/",
          "height": 35
        },
        "outputId": "0d0aefaa-6a09-4e66-ca4c-3229c6070508"
      },
      "source": [
        "import numpy as np\n",
        "print(np.__version__)"
      ],
      "execution_count": 1,
      "outputs": [
        {
          "output_type": "stream",
          "text": [
            "1.18.5\n"
          ],
          "name": "stdout"
        }
      ]
    },
    {
      "cell_type": "markdown",
      "metadata": {
        "id": "xm_bH1hY3vxV",
        "colab_type": "text"
      },
      "source": [
        "- using .array(....) function"
      ]
    },
    {
      "cell_type": "code",
      "metadata": {
        "id": "5fwFzvNG3vxW",
        "colab_type": "code",
        "colab": {}
      },
      "source": [
        "np_arr = np.array([1,2,3,4,5,6])"
      ],
      "execution_count": 2,
      "outputs": []
    },
    {
      "cell_type": "code",
      "metadata": {
        "id": "HItBZ5eY3vxY",
        "colab_type": "code",
        "colab": {
          "base_uri": "https://localhost:8080/",
          "height": 35
        },
        "outputId": "b6b7cad8-6348-4173-c9f1-3d51e53644d7"
      },
      "source": [
        "np_arr  #  print(np_arr)"
      ],
      "execution_count": 3,
      "outputs": [
        {
          "output_type": "execute_result",
          "data": {
            "text/plain": [
              "array([1, 2, 3, 4, 5, 6])"
            ]
          },
          "metadata": {
            "tags": []
          },
          "execution_count": 3
        }
      ]
    },
    {
      "cell_type": "code",
      "metadata": {
        "id": "LWXIMRYD3vxc",
        "colab_type": "code",
        "colab": {}
      },
      "source": [
        "py_arr = [1,2,3,4,5,6]"
      ],
      "execution_count": 4,
      "outputs": []
    },
    {
      "cell_type": "code",
      "metadata": {
        "id": "7xFo85qV3vxe",
        "colab_type": "code",
        "colab": {
          "base_uri": "https://localhost:8080/",
          "height": 35
        },
        "outputId": "09ae40d4-512b-4a6d-c16f-749ee42abcc5"
      },
      "source": [
        "py_arr"
      ],
      "execution_count": 5,
      "outputs": [
        {
          "output_type": "execute_result",
          "data": {
            "text/plain": [
              "[1, 2, 3, 4, 5, 6]"
            ]
          },
          "metadata": {
            "tags": []
          },
          "execution_count": 5
        }
      ]
    },
    {
      "cell_type": "markdown",
      "metadata": {
        "id": "e58XxfUo3vxh",
        "colab_type": "text"
      },
      "source": [
        "- Check the difference between python array and numpy array"
      ]
    },
    {
      "cell_type": "code",
      "metadata": {
        "id": "1LqFjigJ3vxi",
        "colab_type": "code",
        "colab": {}
      },
      "source": [
        "py_arr = [1,2,3,4, \"Hi\",5,6] #heterogenuous"
      ],
      "execution_count": 6,
      "outputs": []
    },
    {
      "cell_type": "code",
      "metadata": {
        "id": "cJE6z_OD3vxl",
        "colab_type": "code",
        "colab": {
          "base_uri": "https://localhost:8080/",
          "height": 35
        },
        "outputId": "60185504-c04e-45c2-e771-6de8c56a5e09"
      },
      "source": [
        "py_arr"
      ],
      "execution_count": 7,
      "outputs": [
        {
          "output_type": "execute_result",
          "data": {
            "text/plain": [
              "[1, 2, 3, 4, 'Hi', 5, 6]"
            ]
          },
          "metadata": {
            "tags": []
          },
          "execution_count": 7
        }
      ]
    },
    {
      "cell_type": "code",
      "metadata": {
        "id": "8LezmhDZ3vxo",
        "colab_type": "code",
        "colab": {}
      },
      "source": [
        "np_arr = np.array([1,2,3, \"bye\",4,5,6])  #homogenous"
      ],
      "execution_count": 8,
      "outputs": []
    },
    {
      "cell_type": "code",
      "metadata": {
        "id": "l-kF4I-B3vxq",
        "colab_type": "code",
        "colab": {
          "base_uri": "https://localhost:8080/",
          "height": 35
        },
        "outputId": "8f91dab4-5f29-4c5b-b89f-fd4a57a9a6a5"
      },
      "source": [
        "np_arr"
      ],
      "execution_count": 9,
      "outputs": [
        {
          "output_type": "execute_result",
          "data": {
            "text/plain": [
              "array(['1', '2', '3', 'bye', '4', '5', '6'], dtype='<U21')"
            ]
          },
          "metadata": {
            "tags": []
          },
          "execution_count": 9
        }
      ]
    },
    {
      "cell_type": "markdown",
      "metadata": {
        "id": "uuK1aUm13vxv",
        "colab_type": "text"
      },
      "source": [
        " - Create a list with values 1 to 10 and assign it to the variable \"list1\"\n",
        " - Create an integer array from list1 and assign it\n",
        " - Check the data type of each array (use the attribute \"dtype\")"
      ]
    },
    {
      "cell_type": "code",
      "metadata": {
        "id": "qkiMlgjA3vxw",
        "colab_type": "code",
        "colab": {
          "base_uri": "https://localhost:8080/",
          "height": 35
        },
        "outputId": "d29c299a-4fb5-41da-f345-333089edafbc"
      },
      "source": [
        "list1= range(1, 11)\n",
        "np_arr = np.array(list1, dtype = np.int16)   # np_arr = np.array(list1, \"i\") \n",
        "print(np_arr, np_arr.dtype)"
      ],
      "execution_count": 10,
      "outputs": [
        {
          "output_type": "stream",
          "text": [
            "[ 1  2  3  4  5  6  7  8  9 10] int16\n"
          ],
          "name": "stdout"
        }
      ]
    },
    {
      "cell_type": "markdown",
      "metadata": {
        "id": "nc9gdqTd3vxz",
        "colab_type": "text"
      },
      "source": [
        " - Create a list with values 1 to 10 and assign it to the variable \"list1\"\n",
        " - Create an array of floats from list1 and assign it\n",
        " - Check the data type of each array (use the attribute \"dtype\")"
      ]
    },
    {
      "cell_type": "code",
      "metadata": {
        "id": "fmmNjatv3vx0",
        "colab_type": "code",
        "colab": {
          "base_uri": "https://localhost:8080/",
          "height": 35
        },
        "outputId": "e205c5e5-43d6-40fb-951d-046c90eaa3e3"
      },
      "source": [
        "list1= range(1, 11)\n",
        "np_arr = np.array(list1, dtype = np.float64)   # np_arr = np.array(list1, \"i\") \n",
        "print(np_arr, np_arr.dtype)"
      ],
      "execution_count": 11,
      "outputs": [
        {
          "output_type": "stream",
          "text": [
            "[ 1.  2.  3.  4.  5.  6.  7.  8.  9. 10.] float64\n"
          ],
          "name": "stdout"
        }
      ]
    },
    {
      "cell_type": "markdown",
      "metadata": {
        "id": "QZVJAMIp3vx3",
        "colab_type": "text"
      },
      "source": [
        "## 3. Create N-Dimensional Array"
      ]
    },
    {
      "cell_type": "markdown",
      "metadata": {
        "id": "SOjdBLod3vx5",
        "colab_type": "text"
      },
      "source": [
        "- using .array() and many other function   # create numpy array\n",
        "- using .reshape() function   # reshapes the array without changing the original shape\n",
        "- using .arange() function    # create sequence of numbers in array\n",
        "- using .empty()              # to get a matrix of all random numbers\n",
        "- using .zeros() and ones()   # numpy provides the utility to create some usual matrices which are commonly used\n",
        "- using .diag()               # diagonal elements   np.diag([1,1,1,1])\n",
        "- using .ravel() function "
      ]
    },
    {
      "cell_type": "markdown",
      "metadata": {
        "id": "pFQGq54m3vx7",
        "colab_type": "text"
      },
      "source": [
        "<script src=\"https://npmcdn.com/jupyter-js-widgets@~1.2.0/dist/embed.js\"></script><img src='https://www.oreilly.com/library/view/elegant-scipy/9781491922927/assets/elsp_0105.png'><script type=\"application/vnd.jupyter-embedded-widgets\">{}</script>"
      ]
    },
    {
      "cell_type": "code",
      "metadata": {
        "id": "9PjIlAUr3vx8",
        "colab_type": "code",
        "colab": {
          "base_uri": "https://localhost:8080/",
          "height": 35
        },
        "outputId": "7c9fd5e3-26c6-4a64-e81e-180617c4181b"
      },
      "source": [
        "import numpy as np\n",
        "np_arr=np.arange(0,10,1)\n",
        "np_arr"
      ],
      "execution_count": 12,
      "outputs": [
        {
          "output_type": "execute_result",
          "data": {
            "text/plain": [
              "array([0, 1, 2, 3, 4, 5, 6, 7, 8, 9])"
            ]
          },
          "metadata": {
            "tags": []
          },
          "execution_count": 12
        }
      ]
    },
    {
      "cell_type": "markdown",
      "metadata": {
        "id": "2ovRaSnz3vyA",
        "colab_type": "text"
      },
      "source": [
        "<script src=\"https://npmcdn.com/jupyter-js-widgets@~1.2.0/dist/embed.js\"></script><img src='https://t1.daumcdn.net/cfile/tistory/99B4C23C5A884A392C'><script type=\"application/vnd.jupyter-embedded-widgets\">{}</script>"
      ]
    },
    {
      "cell_type": "code",
      "metadata": {
        "id": "x7T1oV1z3vyA",
        "colab_type": "code",
        "colab": {
          "base_uri": "https://localhost:8080/",
          "height": 53
        },
        "outputId": "d0bf2434-6afa-48de-e549-baec202f8020"
      },
      "source": [
        "np_arr.reshape(2, 5) #2 by 5"
      ],
      "execution_count": 13,
      "outputs": [
        {
          "output_type": "execute_result",
          "data": {
            "text/plain": [
              "array([[0, 1, 2, 3, 4],\n",
              "       [5, 6, 7, 8, 9]])"
            ]
          },
          "metadata": {
            "tags": []
          },
          "execution_count": 13
        }
      ]
    },
    {
      "cell_type": "code",
      "metadata": {
        "id": "h9st4Of13vyE",
        "colab_type": "code",
        "colab": {
          "base_uri": "https://localhost:8080/",
          "height": 35
        },
        "outputId": "a155e795-70b7-4f93-ac03-31310a77792e"
      },
      "source": [
        "np_arr "
      ],
      "execution_count": 14,
      "outputs": [
        {
          "output_type": "execute_result",
          "data": {
            "text/plain": [
              "array([0, 1, 2, 3, 4, 5, 6, 7, 8, 9])"
            ]
          },
          "metadata": {
            "tags": []
          },
          "execution_count": 14
        }
      ]
    },
    {
      "cell_type": "code",
      "metadata": {
        "id": "CRz1ykH73vyI",
        "colab_type": "code",
        "colab": {}
      },
      "source": [
        "np_arr = np.empty((5,2))"
      ],
      "execution_count": 15,
      "outputs": []
    },
    {
      "cell_type": "code",
      "metadata": {
        "id": "-vnF9XLL3vyK",
        "colab_type": "code",
        "colab": {
          "base_uri": "https://localhost:8080/",
          "height": 107
        },
        "outputId": "c3763bd4-0ac4-40d6-94ba-172cd2be52c7"
      },
      "source": [
        "np_arr"
      ],
      "execution_count": 16,
      "outputs": [
        {
          "output_type": "execute_result",
          "data": {
            "text/plain": [
              "array([[ 1.,  2.],\n",
              "       [ 3.,  4.],\n",
              "       [ 5.,  6.],\n",
              "       [ 7.,  8.],\n",
              "       [ 9., 10.]])"
            ]
          },
          "metadata": {
            "tags": []
          },
          "execution_count": 16
        }
      ]
    },
    {
      "cell_type": "code",
      "metadata": {
        "id": "4EfAoTaI3vyN",
        "colab_type": "code",
        "colab": {}
      },
      "source": [
        "np_arr=np.empty((5,2), dtype = np.int8)"
      ],
      "execution_count": 17,
      "outputs": []
    },
    {
      "cell_type": "code",
      "metadata": {
        "id": "0lf2pZnO3vyO",
        "colab_type": "code",
        "colab": {
          "base_uri": "https://localhost:8080/",
          "height": 107
        },
        "outputId": "0c682896-9798-47c2-ade3-bcbebd596212"
      },
      "source": [
        "np_arr"
      ],
      "execution_count": 18,
      "outputs": [
        {
          "output_type": "execute_result",
          "data": {
            "text/plain": [
              "array([[1, 1],\n",
              "       [1, 1],\n",
              "       [1, 1],\n",
              "       [1, 1],\n",
              "       [1, 1]], dtype=int8)"
            ]
          },
          "metadata": {
            "tags": []
          },
          "execution_count": 18
        }
      ]
    },
    {
      "cell_type": "code",
      "metadata": {
        "id": "4OsmI0ZU3vyS",
        "colab_type": "code",
        "colab": {}
      },
      "source": [
        "np_arr = np.zeros((5,2)) # Create an array of all zeros"
      ],
      "execution_count": 19,
      "outputs": []
    },
    {
      "cell_type": "code",
      "metadata": {
        "id": "CXLKbWUE3vyV",
        "colab_type": "code",
        "colab": {
          "base_uri": "https://localhost:8080/",
          "height": 107
        },
        "outputId": "047115a5-4e78-4d0c-f7af-e3e612a63e13"
      },
      "source": [
        "np_arr"
      ],
      "execution_count": 20,
      "outputs": [
        {
          "output_type": "execute_result",
          "data": {
            "text/plain": [
              "array([[0., 0.],\n",
              "       [0., 0.],\n",
              "       [0., 0.],\n",
              "       [0., 0.],\n",
              "       [0., 0.]])"
            ]
          },
          "metadata": {
            "tags": []
          },
          "execution_count": 20
        }
      ]
    },
    {
      "cell_type": "code",
      "metadata": {
        "id": "1yBHKXTQ3vyX",
        "colab_type": "code",
        "colab": {}
      },
      "source": [
        "np_arr = np.ones((5,2), dtype = np.int8)  # Create an array of all ones"
      ],
      "execution_count": 21,
      "outputs": []
    },
    {
      "cell_type": "code",
      "metadata": {
        "id": "hXtsJGz53vya",
        "colab_type": "code",
        "colab": {
          "base_uri": "https://localhost:8080/",
          "height": 107
        },
        "outputId": "4ac8ee7b-1d9a-4a04-b67e-78616613fde3"
      },
      "source": [
        "np_arr"
      ],
      "execution_count": 22,
      "outputs": [
        {
          "output_type": "execute_result",
          "data": {
            "text/plain": [
              "array([[1, 1],\n",
              "       [1, 1],\n",
              "       [1, 1],\n",
              "       [1, 1],\n",
              "       [1, 1]], dtype=int8)"
            ]
          },
          "metadata": {
            "tags": []
          },
          "execution_count": 22
        }
      ]
    },
    {
      "cell_type": "code",
      "metadata": {
        "id": "_htEJhIj3vyc",
        "colab_type": "code",
        "colab": {
          "base_uri": "https://localhost:8080/",
          "height": 35
        },
        "outputId": "231bb6a9-2665-43c6-9948-2bd062326f04"
      },
      "source": [
        "np_arr.ravel()"
      ],
      "execution_count": 23,
      "outputs": [
        {
          "output_type": "execute_result",
          "data": {
            "text/plain": [
              "array([1, 1, 1, 1, 1, 1, 1, 1, 1, 1], dtype=int8)"
            ]
          },
          "metadata": {
            "tags": []
          },
          "execution_count": 23
        }
      ]
    },
    {
      "cell_type": "code",
      "metadata": {
        "id": "rnUuwRUo3vyf",
        "colab_type": "code",
        "colab": {
          "base_uri": "https://localhost:8080/",
          "height": 71
        },
        "outputId": "44ba987c-5e26-4bd6-ea73-6338c0d9a2e1"
      },
      "source": [
        "np.eye(3) # 3 by b matrics"
      ],
      "execution_count": 24,
      "outputs": [
        {
          "output_type": "execute_result",
          "data": {
            "text/plain": [
              "array([[1., 0., 0.],\n",
              "       [0., 1., 0.],\n",
              "       [0., 0., 1.]])"
            ]
          },
          "metadata": {
            "tags": []
          },
          "execution_count": 24
        }
      ]
    },
    {
      "cell_type": "code",
      "metadata": {
        "id": "svik2jMl3vyj",
        "colab_type": "code",
        "colab": {
          "base_uri": "https://localhost:8080/",
          "height": 53
        },
        "outputId": "779ad7db-b86f-4de7-b116-4ed93210e36c"
      },
      "source": [
        "np.full((2,2), 7)  # Create a constant array"
      ],
      "execution_count": 27,
      "outputs": [
        {
          "output_type": "execute_result",
          "data": {
            "text/plain": [
              "array([[7, 7],\n",
              "       [7, 7]])"
            ]
          },
          "metadata": {
            "tags": []
          },
          "execution_count": 27
        }
      ]
    },
    {
      "cell_type": "code",
      "metadata": {
        "id": "5E0IREBj3vyl",
        "colab_type": "code",
        "colab": {
          "base_uri": "https://localhost:8080/",
          "height": 107
        },
        "outputId": "85d21303-fc8a-4a55-a5b3-647be2d4d461"
      },
      "source": [
        "np_arr"
      ],
      "execution_count": 28,
      "outputs": [
        {
          "output_type": "execute_result",
          "data": {
            "text/plain": [
              "array([[1, 1],\n",
              "       [1, 1],\n",
              "       [1, 1],\n",
              "       [1, 1],\n",
              "       [1, 1]], dtype=int8)"
            ]
          },
          "metadata": {
            "tags": []
          },
          "execution_count": 28
        }
      ]
    },
    {
      "cell_type": "markdown",
      "metadata": {
        "id": "y5K9386V3vym",
        "colab_type": "text"
      },
      "source": [
        "#### Practice 1\n",
        "- Create an array of shape (2,3,4) of zeros\n",
        "- Create an array of shape (3,4,5) of ones\n",
        "- Create an array with values 0 to 49 using the np.arange() "
      ]
    },
    {
      "cell_type": "code",
      "metadata": {
        "id": "MCxxAJ8F3vyn",
        "colab_type": "code",
        "colab": {
          "base_uri": "https://localhost:8080/",
          "height": 449
        },
        "outputId": "379561b9-273b-4d4a-ebe3-f91ac6a1e1a8"
      },
      "source": [
        "import numpy as np\n",
        "np_arr=np.zeros((2,3,4))\n",
        "print(np_arr)\n",
        "np_arr = np.ones((3, 4, 5))\n",
        "print(np_arr)\n",
        "np_arr = np.arange(50)\n",
        "print(np_arr)"
      ],
      "execution_count": 29,
      "outputs": [
        {
          "output_type": "stream",
          "text": [
            "[[[0. 0. 0. 0.]\n",
            "  [0. 0. 0. 0.]\n",
            "  [0. 0. 0. 0.]]\n",
            "\n",
            " [[0. 0. 0. 0.]\n",
            "  [0. 0. 0. 0.]\n",
            "  [0. 0. 0. 0.]]]\n",
            "[[[1. 1. 1. 1. 1.]\n",
            "  [1. 1. 1. 1. 1.]\n",
            "  [1. 1. 1. 1. 1.]\n",
            "  [1. 1. 1. 1. 1.]]\n",
            "\n",
            " [[1. 1. 1. 1. 1.]\n",
            "  [1. 1. 1. 1. 1.]\n",
            "  [1. 1. 1. 1. 1.]\n",
            "  [1. 1. 1. 1. 1.]]\n",
            "\n",
            " [[1. 1. 1. 1. 1.]\n",
            "  [1. 1. 1. 1. 1.]\n",
            "  [1. 1. 1. 1. 1.]\n",
            "  [1. 1. 1. 1. 1.]]]\n",
            "[ 0  1  2  3  4  5  6  7  8  9 10 11 12 13 14 15 16 17 18 19 20 21 22 23\n",
            " 24 25 26 27 28 29 30 31 32 33 34 35 36 37 38 39 40 41 42 43 44 45 46 47\n",
            " 48 49]\n"
          ],
          "name": "stdout"
        }
      ]
    },
    {
      "cell_type": "markdown",
      "metadata": {
        "id": "nkyma5Em3vyp",
        "colab_type": "text"
      },
      "source": [
        "#### Practice  2    \n",
        "- Create an array of from the list [2,5,5, -7.2, 3,5, 2.7, 4.7] and assign it \n",
        "  print np_arr[1] \n",
        "- try printing np_arr[1:-4] to see what the equals?\n",
        "- Create a 2-D array from the following list and assign it \n",
        "  [[2, 3.2, 5.5, -6.4, -2.2, 2.4], \n",
        "  [1, 22, 4, 0.1, 5.3, -9], \n",
        "  [3, 1, 2.1, 21, 1.1, -2]]\n",
        "\n",
        "- try printing the following\n",
        "  a[:, 3], \n",
        "  a[1:4, 0:4], \n",
        "  a[1:, 2] "
      ]
    },
    {
      "cell_type": "code",
      "metadata": {
        "id": "LMGbCMrg3vyq",
        "colab_type": "code",
        "colab": {}
      },
      "source": [
        "import numpy as np\n",
        "np_arr = np.array([2,5.5, -7.2, 3.5, 2.7, 4.7])"
      ],
      "execution_count": 30,
      "outputs": []
    },
    {
      "cell_type": "code",
      "metadata": {
        "id": "aiNv-ZsV3vys",
        "colab_type": "code",
        "colab": {
          "base_uri": "https://localhost:8080/",
          "height": 35
        },
        "outputId": "ce3478b0-3ec7-4475-b726-3522edc54b3d"
      },
      "source": [
        "np_arr"
      ],
      "execution_count": 31,
      "outputs": [
        {
          "output_type": "execute_result",
          "data": {
            "text/plain": [
              "array([ 2. ,  5.5, -7.2,  3.5,  2.7,  4.7])"
            ]
          },
          "metadata": {
            "tags": []
          },
          "execution_count": 31
        }
      ]
    },
    {
      "cell_type": "code",
      "metadata": {
        "id": "G3X-fY2h3vyu",
        "colab_type": "code",
        "colab": {
          "base_uri": "https://localhost:8080/",
          "height": 35
        },
        "outputId": "a1a492b8-10f4-4bae-88cf-86159f4d4aa3"
      },
      "source": [
        "np_arr[1]"
      ],
      "execution_count": 32,
      "outputs": [
        {
          "output_type": "execute_result",
          "data": {
            "text/plain": [
              "5.5"
            ]
          },
          "metadata": {
            "tags": []
          },
          "execution_count": 32
        }
      ]
    },
    {
      "cell_type": "code",
      "metadata": {
        "id": "vqKyyTzo3vyy",
        "colab_type": "code",
        "colab": {
          "base_uri": "https://localhost:8080/",
          "height": 35
        },
        "outputId": "dd2f337c-bf00-48a0-ed41-9b47466d8bd5"
      },
      "source": [
        "np_arr[1:4]"
      ],
      "execution_count": 33,
      "outputs": [
        {
          "output_type": "execute_result",
          "data": {
            "text/plain": [
              "array([ 5.5, -7.2,  3.5])"
            ]
          },
          "metadata": {
            "tags": []
          },
          "execution_count": 33
        }
      ]
    },
    {
      "cell_type": "code",
      "metadata": {
        "id": "tVJdalYy3vy5",
        "colab_type": "code",
        "colab": {}
      },
      "source": [
        "np_arr = np.array([[2, 3.2, 5.5, -6.4, -2.2, 2.4],\n",
        "                [1, 22, 4, 0.1, 5.3, -9],\n",
        "                [3, 1, 2.1, 21, 1.1, -2]])"
      ],
      "execution_count": 34,
      "outputs": []
    },
    {
      "cell_type": "code",
      "metadata": {
        "id": "Uw1w0rU-3vy7",
        "colab_type": "code",
        "colab": {
          "base_uri": "https://localhost:8080/",
          "height": 71
        },
        "outputId": "49074af0-e5fa-4ad9-a0fa-d30969f359c7"
      },
      "source": [
        "np_arr"
      ],
      "execution_count": 35,
      "outputs": [
        {
          "output_type": "execute_result",
          "data": {
            "text/plain": [
              "array([[ 2. ,  3.2,  5.5, -6.4, -2.2,  2.4],\n",
              "       [ 1. , 22. ,  4. ,  0.1,  5.3, -9. ],\n",
              "       [ 3. ,  1. ,  2.1, 21. ,  1.1, -2. ]])"
            ]
          },
          "metadata": {
            "tags": []
          },
          "execution_count": 35
        }
      ]
    },
    {
      "cell_type": "code",
      "metadata": {
        "id": "lLp9FmMx3vy-",
        "colab_type": "code",
        "colab": {
          "base_uri": "https://localhost:8080/",
          "height": 35
        },
        "outputId": "11f3226a-33bb-437c-a315-3c82e8bf8448"
      },
      "source": [
        "np_arr[:,3]"
      ],
      "execution_count": 36,
      "outputs": [
        {
          "output_type": "execute_result",
          "data": {
            "text/plain": [
              "array([-6.4,  0.1, 21. ])"
            ]
          },
          "metadata": {
            "tags": []
          },
          "execution_count": 36
        }
      ]
    },
    {
      "cell_type": "code",
      "metadata": {
        "id": "mPb1boXq3vzB",
        "colab_type": "code",
        "colab": {
          "base_uri": "https://localhost:8080/",
          "height": 35
        },
        "outputId": "df180ff3-fe09-455e-ee4a-d4fc2a9a6f61"
      },
      "source": [
        "np_arr[1:2, 3:4]"
      ],
      "execution_count": 37,
      "outputs": [
        {
          "output_type": "execute_result",
          "data": {
            "text/plain": [
              "array([[0.1]])"
            ]
          },
          "metadata": {
            "tags": []
          },
          "execution_count": 37
        }
      ]
    },
    {
      "cell_type": "markdown",
      "metadata": {
        "id": "jLKLmr7e3vzE",
        "colab_type": "text"
      },
      "source": [
        "#### POPCORN QUIZ\n",
        "Write a Python program to create a 2d array with 1 on the border and 0 inside.\n",
        "- Sample Output\n",
        "\n",
        " Original array:     \n",
        " \n",
        "    [[ 1.  1.  1.  1.  1.]                                                  \n",
        " [ 1.  1.  1.  1.  1.]                                                  \n",
        " [ 1.  1.  1.  1.  1.]                                                  \n",
        " [ 1.  1.  1.  1.  1.]                                                  \n",
        " [ 1.  1.  1.  1.  1.]]  \n",
        " \n",
        " result in below:\n",
        " \n",
        "    [[ 1.  1.  1.  1.  1.]                                                  \n",
        " [ 1.  0.  0.  1.  1.]                                                  \n",
        " [ 1.  0.  0.  1.  1.]                                                  \n",
        " [ 1.  0.  0.  1.  1.]                                                  \n",
        " [ 1.  1.  1.  1.  1.]]"
      ]
    },
    {
      "cell_type": "code",
      "metadata": {
        "id": "6D1YiAya3vzF",
        "colab_type": "code",
        "colab": {
          "base_uri": "https://localhost:8080/",
          "height": 197
        },
        "outputId": "e2332030-58ad-4282-c36c-bd85ea68ef90"
      },
      "source": [
        "import numpy as np  # itp11704\n",
        "np_arr = np.ones((5,5))\n",
        "print(np_arr)\n",
        "# write your answer in here\n",
        "np_arr[1:4, 1:3] = np.zeros((3,2))\n",
        "print(np_arr)"
      ],
      "execution_count": 38,
      "outputs": [
        {
          "output_type": "stream",
          "text": [
            "[[1. 1. 1. 1. 1.]\n",
            " [1. 1. 1. 1. 1.]\n",
            " [1. 1. 1. 1. 1.]\n",
            " [1. 1. 1. 1. 1.]\n",
            " [1. 1. 1. 1. 1.]]\n",
            "[[1. 1. 1. 1. 1.]\n",
            " [1. 0. 0. 1. 1.]\n",
            " [1. 0. 0. 1. 1.]\n",
            " [1. 0. 0. 1. 1.]\n",
            " [1. 1. 1. 1. 1.]]\n"
          ],
          "name": "stdout"
        }
      ]
    },
    {
      "cell_type": "markdown",
      "metadata": {
        "id": "Gl2kBCd03vzH",
        "colab_type": "text"
      },
      "source": [
        "#### Practice 3\n",
        "- Create a 2-D array of shape (2, 4) containing two lists (range(4), range(10, 14)) and assign it\n",
        "- Check the shape, the size,n the maximum and minimum of the array "
      ]
    },
    {
      "cell_type": "code",
      "metadata": {
        "id": "3UTLUgos3vzI",
        "colab_type": "code",
        "colab": {
          "base_uri": "https://localhost:8080/",
          "height": 89
        },
        "outputId": "2129e0c6-55e2-461a-e17d-116a0e2579ae"
      },
      "source": [
        "import numpy as np\n",
        "np_arr=np.array([range(4),range(10,14)])\n",
        "print(np_arr.shape)\n",
        "print(np_arr.size)\n",
        "print(np_arr.max())\n",
        "print(np_arr.min())"
      ],
      "execution_count": 39,
      "outputs": [
        {
          "output_type": "stream",
          "text": [
            "(2, 4)\n",
            "8\n",
            "13\n",
            "0\n"
          ],
          "name": "stdout"
        }
      ]
    },
    {
      "cell_type": "markdown",
      "metadata": {
        "id": "1kSW-uzC3vzO",
        "colab_type": "text"
      },
      "source": [
        "- Contiunue to use the array as defined above. \n",
        "- print the array re-shaped to (2,2,2)\n",
        "- print the array transposed\n",
        "- print the array flattened to a single dimension"
      ]
    },
    {
      "cell_type": "code",
      "metadata": {
        "id": "t3j34zaq3vzO",
        "colab_type": "code",
        "colab": {
          "base_uri": "https://localhost:8080/",
          "height": 71
        },
        "outputId": "bc6522cf-2f90-40dc-af6d-947a3f2f4415"
      },
      "source": [
        "np.reshape(np_arr,(4,2))\n",
        "print(np_arr)\n",
        "np.transpose(np_arr)\n",
        "np.ravel(np_arr)"
      ],
      "execution_count": 40,
      "outputs": [
        {
          "output_type": "stream",
          "text": [
            "[[ 0  1  2  3]\n",
            " [10 11 12 13]]\n"
          ],
          "name": "stdout"
        },
        {
          "output_type": "execute_result",
          "data": {
            "text/plain": [
              "array([ 0,  1,  2,  3, 10, 11, 12, 13])"
            ]
          },
          "metadata": {
            "tags": []
          },
          "execution_count": 40
        }
      ]
    },
    {
      "cell_type": "markdown",
      "metadata": {
        "id": "KYvV1qYe3vzR",
        "colab_type": "text"
      },
      "source": [
        "## 4. Mathematical Operations and Array Calculations \n",
        "\n",
        "NumPy n-dimensional arrays makes it extremely easy to perform mathematical operations on it.\n",
        "- Mathematical operations with arrays\n",
        "- Mathematical operations mixing scalars and arrays\n",
        "- Comparison operators and Boolean operations on arrays\n",
        "- Broadcasting"
      ]
    },
    {
      "cell_type": "code",
      "metadata": {
        "id": "U3PQ5mj93vzR",
        "colab_type": "code",
        "colab": {}
      },
      "source": [
        "py_arr = [1,2,3] * 2"
      ],
      "execution_count": 41,
      "outputs": []
    },
    {
      "cell_type": "code",
      "metadata": {
        "id": "LO2m1vK23vzS",
        "colab_type": "code",
        "colab": {}
      },
      "source": [
        "np_arr = np.array([1,2,3]) * 2 "
      ],
      "execution_count": 42,
      "outputs": []
    },
    {
      "cell_type": "code",
      "metadata": {
        "id": "qt0q6bwX3vzW",
        "colab_type": "code",
        "colab": {
          "base_uri": "https://localhost:8080/",
          "height": 35
        },
        "outputId": "28436f7a-0978-412a-d571-2e05fb149e80"
      },
      "source": [
        "py_arr"
      ],
      "execution_count": 43,
      "outputs": [
        {
          "output_type": "execute_result",
          "data": {
            "text/plain": [
              "[1, 2, 3, 1, 2, 3]"
            ]
          },
          "metadata": {
            "tags": []
          },
          "execution_count": 43
        }
      ]
    },
    {
      "cell_type": "code",
      "metadata": {
        "id": "6Bmea5hE3vzZ",
        "colab_type": "code",
        "colab": {
          "base_uri": "https://localhost:8080/",
          "height": 35
        },
        "outputId": "0dc87c58-4b93-4f85-a869-df4aadb70c67"
      },
      "source": [
        "np_arr"
      ],
      "execution_count": 44,
      "outputs": [
        {
          "output_type": "execute_result",
          "data": {
            "text/plain": [
              "array([2, 4, 6])"
            ]
          },
          "metadata": {
            "tags": []
          },
          "execution_count": 44
        }
      ]
    },
    {
      "cell_type": "markdown",
      "metadata": {
        "id": "V7EqG5rD3vzc",
        "colab_type": "text"
      },
      "source": [
        "multi dimensional mathematical operations"
      ]
    },
    {
      "cell_type": "code",
      "metadata": {
        "id": "MkInjLP43vzc",
        "colab_type": "code",
        "colab": {}
      },
      "source": [
        "np_arr = np.ones((5,2)) * 10"
      ],
      "execution_count": 45,
      "outputs": []
    },
    {
      "cell_type": "code",
      "metadata": {
        "id": "KUdWWbSg3vze",
        "colab_type": "code",
        "colab": {
          "base_uri": "https://localhost:8080/",
          "height": 107
        },
        "outputId": "f80f34b6-b72c-4920-e470-7f91c7061c67"
      },
      "source": [
        "np_arr"
      ],
      "execution_count": 46,
      "outputs": [
        {
          "output_type": "execute_result",
          "data": {
            "text/plain": [
              "array([[10., 10.],\n",
              "       [10., 10.],\n",
              "       [10., 10.],\n",
              "       [10., 10.],\n",
              "       [10., 10.]])"
            ]
          },
          "metadata": {
            "tags": []
          },
          "execution_count": 46
        }
      ]
    },
    {
      "cell_type": "markdown",
      "metadata": {
        "id": "OOH6W0mc3vzh",
        "colab_type": "text"
      },
      "source": [
        "#### Practice 4\n",
        "- Create a 2-D array of shape (2, 4) containing two lists (range(4), range(10, 14)) and assign it to the   \n",
        "  variable \"a\" \n",
        "- Create an array from a list [2, -1, 1, 0] and assign it to the variable \"b\"\n",
        "- Multiply array \"a\" by \"b\" and view the result. Do you understand how NumPy has used its broadcasting feature\n",
        "  to do the calculation even though the arrays are different shapes?\n",
        "- Multiply array \"b\" by 100 and assign the result to the variable \"b1\".\n",
        "- Multiply array \"b\" by 100.0 and assign the result to the variable \"b2\".\n",
        "- Print the arrays \"b1\" and \"b2\".\n",
        "- Print \"b1 == b2\". Are they the same?\n",
        "- Why do they display differently? Interrogate the typecode of each array to find out why."
      ]
    },
    {
      "cell_type": "code",
      "metadata": {
        "id": "ybqDZvsf3vzh",
        "colab_type": "code",
        "colab": {}
      },
      "source": [
        "import numpy as np"
      ],
      "execution_count": 47,
      "outputs": []
    },
    {
      "cell_type": "code",
      "metadata": {
        "id": "O57IRTF73vzj",
        "colab_type": "code",
        "colab": {
          "base_uri": "https://localhost:8080/",
          "height": 53
        },
        "outputId": "eb851bc9-9f97-400b-df88-edc479eb89d9"
      },
      "source": [
        "a = np.array([range(4), range(10,14)])\n",
        "a"
      ],
      "execution_count": 48,
      "outputs": [
        {
          "output_type": "execute_result",
          "data": {
            "text/plain": [
              "array([[ 0,  1,  2,  3],\n",
              "       [10, 11, 12, 13]])"
            ]
          },
          "metadata": {
            "tags": []
          },
          "execution_count": 48
        }
      ]
    },
    {
      "cell_type": "code",
      "metadata": {
        "id": "_xsEKLdh3vzm",
        "colab_type": "code",
        "colab": {
          "base_uri": "https://localhost:8080/",
          "height": 35
        },
        "outputId": "c7cb8b12-387c-41d0-86cc-1073bbcf88d9"
      },
      "source": [
        "b = np.array([2,-1,1,0])\n",
        "b"
      ],
      "execution_count": 49,
      "outputs": [
        {
          "output_type": "execute_result",
          "data": {
            "text/plain": [
              "array([ 2, -1,  1,  0])"
            ]
          },
          "metadata": {
            "tags": []
          },
          "execution_count": 49
        }
      ]
    },
    {
      "cell_type": "code",
      "metadata": {
        "id": "eKOLevz33vzp",
        "colab_type": "code",
        "colab": {
          "base_uri": "https://localhost:8080/",
          "height": 53
        },
        "outputId": "edf5a18a-c138-46c8-d1c5-37294c929b03"
      },
      "source": [
        "# a*b\n",
        "print(a*b)"
      ],
      "execution_count": 50,
      "outputs": [
        {
          "output_type": "stream",
          "text": [
            "[[  0  -1   2   0]\n",
            " [ 20 -11  12   0]]\n"
          ],
          "name": "stdout"
        }
      ]
    },
    {
      "cell_type": "code",
      "metadata": {
        "id": "eQYsHTIJ3vzr",
        "colab_type": "code",
        "colab": {
          "base_uri": "https://localhost:8080/",
          "height": 35
        },
        "outputId": "672865c3-8e96-44e1-9954-063a1e4c247b"
      },
      "source": [
        "# b1\n",
        "b1 = 100*b\n",
        "b1"
      ],
      "execution_count": 51,
      "outputs": [
        {
          "output_type": "execute_result",
          "data": {
            "text/plain": [
              "array([ 200, -100,  100,    0])"
            ]
          },
          "metadata": {
            "tags": []
          },
          "execution_count": 51
        }
      ]
    },
    {
      "cell_type": "code",
      "metadata": {
        "id": "mrBmal1_3vzt",
        "colab_type": "code",
        "colab": {
          "base_uri": "https://localhost:8080/",
          "height": 35
        },
        "outputId": "6e79e04e-ab2c-4fbd-c92a-00986aa1c6a6"
      },
      "source": [
        "#b2\n",
        "b2 = 100.0*b\n",
        "b2"
      ],
      "execution_count": 52,
      "outputs": [
        {
          "output_type": "execute_result",
          "data": {
            "text/plain": [
              "array([ 200., -100.,  100.,    0.])"
            ]
          },
          "metadata": {
            "tags": []
          },
          "execution_count": 52
        }
      ]
    },
    {
      "cell_type": "code",
      "metadata": {
        "id": "15fN9EHl3vzv",
        "colab_type": "code",
        "colab": {
          "base_uri": "https://localhost:8080/",
          "height": 35
        },
        "outputId": "0c8e14e2-2adf-4274-a699-34108185cfe1"
      },
      "source": [
        "#print \n",
        "print(b1 == b2)"
      ],
      "execution_count": 53,
      "outputs": [
        {
          "output_type": "stream",
          "text": [
            "[ True  True  True  True]\n"
          ],
          "name": "stdout"
        }
      ]
    },
    {
      "cell_type": "markdown",
      "metadata": {
        "id": "SM4GM70M3vzy",
        "colab_type": "text"
      },
      "source": [
        "### Broadcasting \n",
        "Broadcasting is simply a set of rules for applying binary ufuncs (e.g., addition, subtraction, multiplication, etc.) on arrays of different sizes.\n"
      ]
    },
    {
      "cell_type": "code",
      "metadata": {
        "id": "Nc9ONYvU3vzy",
        "colab_type": "code",
        "colab": {}
      },
      "source": [
        "import numpy as np"
      ],
      "execution_count": 54,
      "outputs": []
    },
    {
      "cell_type": "code",
      "metadata": {
        "id": "hoVPxvLo3vz0",
        "colab_type": "code",
        "colab": {}
      },
      "source": [
        "a = np.array([0,1,2])\n",
        "b = np.array([5,5,5])"
      ],
      "execution_count": 55,
      "outputs": []
    },
    {
      "cell_type": "code",
      "metadata": {
        "id": "H17nf7vj3vz1",
        "colab_type": "code",
        "colab": {
          "base_uri": "https://localhost:8080/",
          "height": 35
        },
        "outputId": "003e0edf-1a45-4a98-e64e-49840160c3a1"
      },
      "source": [
        "a+b"
      ],
      "execution_count": 56,
      "outputs": [
        {
          "output_type": "execute_result",
          "data": {
            "text/plain": [
              "array([5, 6, 7])"
            ]
          },
          "metadata": {
            "tags": []
          },
          "execution_count": 56
        }
      ]
    },
    {
      "cell_type": "markdown",
      "metadata": {
        "id": "Dv3pd1pA3vz4",
        "colab_type": "text"
      },
      "source": [
        "Broadcasting allows these types of binary operations to be performed on arrays of different sizes–for example,\n",
        "you can just as easily add a scalar (think of it as a zero-dimensional array) to an array:"
      ]
    },
    {
      "cell_type": "code",
      "metadata": {
        "id": "0Z63p_zZ3vz4",
        "colab_type": "code",
        "colab": {
          "base_uri": "https://localhost:8080/",
          "height": 35
        },
        "outputId": "cf82fccd-e6a0-4237-ac5d-8b0f9cae602e"
      },
      "source": [
        "a+5"
      ],
      "execution_count": 57,
      "outputs": [
        {
          "output_type": "execute_result",
          "data": {
            "text/plain": [
              "array([5, 6, 7])"
            ]
          },
          "metadata": {
            "tags": []
          },
          "execution_count": 57
        }
      ]
    },
    {
      "cell_type": "markdown",
      "metadata": {
        "id": "6hfg8mzT3vz7",
        "colab_type": "text"
      },
      "source": [
        "\n",
        "\n",
        "You can think of this as an operation that stretches or duplicates the value 5 into the array [5, 5, 5], and adds the results. The advantage of NumPy's broadcasting is that this duplication of values does not actually take place, but it is a useful mental model as we think about broadcasting.\n",
        "\n",
        "You can similarly extend this to arrays of higher dimension. Observe the result when we add a one-dimensional array to a two-dimensional array:\n"
      ]
    },
    {
      "cell_type": "code",
      "metadata": {
        "id": "5b9RUOmJ3vz8",
        "colab_type": "code",
        "colab": {}
      },
      "source": [
        "c = np.ones((3,3))"
      ],
      "execution_count": 58,
      "outputs": []
    },
    {
      "cell_type": "code",
      "metadata": {
        "id": "euRVx3kk3vz_",
        "colab_type": "code",
        "colab": {
          "base_uri": "https://localhost:8080/",
          "height": 71
        },
        "outputId": "f8dfc400-322b-433e-c908-ff9ed2cb66f4"
      },
      "source": [
        "c"
      ],
      "execution_count": 59,
      "outputs": [
        {
          "output_type": "execute_result",
          "data": {
            "text/plain": [
              "array([[1., 1., 1.],\n",
              "       [1., 1., 1.],\n",
              "       [1., 1., 1.]])"
            ]
          },
          "metadata": {
            "tags": []
          },
          "execution_count": 59
        }
      ]
    },
    {
      "cell_type": "code",
      "metadata": {
        "id": "7TLaRBWQ3v0E",
        "colab_type": "code",
        "colab": {
          "base_uri": "https://localhost:8080/",
          "height": 71
        },
        "outputId": "fd6bd55d-af6e-4221-e8d5-4d1c1c16d3a9"
      },
      "source": [
        "c + a"
      ],
      "execution_count": 60,
      "outputs": [
        {
          "output_type": "execute_result",
          "data": {
            "text/plain": [
              "array([[1., 2., 3.],\n",
              "       [1., 2., 3.],\n",
              "       [1., 2., 3.]])"
            ]
          },
          "metadata": {
            "tags": []
          },
          "execution_count": 60
        }
      ]
    },
    {
      "cell_type": "markdown",
      "metadata": {
        "id": "CLpOY5ez3v0G",
        "colab_type": "text"
      },
      "source": [
        "\n",
        "\n",
        "Here the one-dimensional array a is stretched, or broadcast across the second dimension in order to match the shape of j.\n",
        "\n",
        "While these examples are relatively easy to understand, more complicated cases can involve broadcasting of both arrays. Consider the following example:\n"
      ]
    },
    {
      "cell_type": "code",
      "metadata": {
        "id": "R8bcE7DN3v0I",
        "colab_type": "code",
        "colab": {}
      },
      "source": [
        "a = np.arange(3)\n",
        "b = np.arange(3)[:, np.newaxis]"
      ],
      "execution_count": 61,
      "outputs": []
    },
    {
      "cell_type": "code",
      "metadata": {
        "id": "MGPdylO_3v0J",
        "colab_type": "code",
        "colab": {
          "base_uri": "https://localhost:8080/",
          "height": 89
        },
        "outputId": "d6d71adf-f5bc-4e8b-832a-ebb9ecbdfa95"
      },
      "source": [
        "print(a)\n",
        "print(b)"
      ],
      "execution_count": 62,
      "outputs": [
        {
          "output_type": "stream",
          "text": [
            "[0 1 2]\n",
            "[[0]\n",
            " [1]\n",
            " [2]]\n"
          ],
          "name": "stdout"
        }
      ]
    },
    {
      "cell_type": "code",
      "metadata": {
        "id": "SHBWsU-q3v0N",
        "colab_type": "code",
        "colab": {
          "base_uri": "https://localhost:8080/",
          "height": 71
        },
        "outputId": "585e5316-25b3-4a58-d38d-e727cddcf55b"
      },
      "source": [
        "a+b"
      ],
      "execution_count": 63,
      "outputs": [
        {
          "output_type": "execute_result",
          "data": {
            "text/plain": [
              "array([[0, 1, 2],\n",
              "       [1, 2, 3],\n",
              "       [2, 3, 4]])"
            ]
          },
          "metadata": {
            "tags": []
          },
          "execution_count": 63
        }
      ]
    },
    {
      "cell_type": "markdown",
      "metadata": {
        "id": "iTi_rxyI3v0P",
        "colab_type": "text"
      },
      "source": [
        "Just as before we stretched or broadcasted one value to match the shape of the other, here we've stretched both a and b to match a common shape, and the result is a two-dimensional array! The geometry of these examples is visualized in the following figure "
      ]
    },
    {
      "cell_type": "markdown",
      "metadata": {
        "id": "a3AQQQKk3v0Q",
        "colab_type": "text"
      },
      "source": [
        "<script src=\"https://npmcdn.com/jupyter-js-widgets@~1.2.0/dist/embed.js\"></script><img src='https://jakevdp.github.io/PythonDataScienceHandbook/figures/02.05-broadcasting.png'><script type=\"application/vnd.jupyter-embedded-widgets\">{}</script>\n"
      ]
    },
    {
      "cell_type": "markdown",
      "metadata": {
        "id": "gZ1Iz1HK3v0Q",
        "colab_type": "text"
      },
      "source": [
        "The light boxes represent the broadcasted values: again, this extra memory is not actually allocated in the course of the operation, but it can be useful conceptually to imagine that it is."
      ]
    },
    {
      "cell_type": "markdown",
      "metadata": {
        "id": "ZOhQlRyw3v0Q",
        "colab_type": "text"
      },
      "source": [
        "### Rules of Broadcasting"
      ]
    },
    {
      "cell_type": "markdown",
      "metadata": {
        "id": "DJRTGond3v0R",
        "colab_type": "text"
      },
      "source": [
        "Broadcasting in NumPy follows a strict set of rules to determine the interaction between the two arrays:\n",
        "\n",
        "    1.Rule 1: If the two arrays differ in their number of dimensions, the shape of the one with fewer dimensions is padded with ones on its leading (left) side.\n",
        "    2. Rule 2: If the shape of the two arrays does not match in any dimension, the array with shape equal to 1 in that dimension is stretched to match the other shape.\n",
        "    3. Rule 3: If in any dimension the sizes disagree and neither is equal to 1, an error is raised."
      ]
    },
    {
      "cell_type": "code",
      "metadata": {
        "id": "HwiAKJQ23v0R",
        "colab_type": "code",
        "colab": {
          "base_uri": "https://localhost:8080/",
          "height": 71
        },
        "outputId": "5428adc0-a7c6-43ca-d32c-eaa33cfe0f52"
      },
      "source": [
        "a = np.ones((2,3))\n",
        "print(a)\n",
        "b = np.arange(3)\n",
        "print(b)"
      ],
      "execution_count": 64,
      "outputs": [
        {
          "output_type": "stream",
          "text": [
            "[[1. 1. 1.]\n",
            " [1. 1. 1.]]\n",
            "[0 1 2]\n"
          ],
          "name": "stdout"
        }
      ]
    },
    {
      "cell_type": "code",
      "metadata": {
        "id": "4iw80ZAy3v0V",
        "colab_type": "code",
        "colab": {
          "base_uri": "https://localhost:8080/",
          "height": 53
        },
        "outputId": "50363bee-1478-4510-bf6b-51e032ff4c4b"
      },
      "source": [
        "s1 = a.shape\n",
        "print(s1)\n",
        "s2 = b.shape\n",
        "print(s2)"
      ],
      "execution_count": 65,
      "outputs": [
        {
          "output_type": "stream",
          "text": [
            "(2, 3)\n",
            "(3,)\n"
          ],
          "name": "stdout"
        }
      ]
    },
    {
      "cell_type": "markdown",
      "metadata": {
        "id": "7gDplC5Q3v0X",
        "colab_type": "raw"
      },
      "source": [
        "Let's consider an operation on these two arrays. The shape of the arrays are\n",
        "\n",
        "a.shape = (2, 3)\n",
        "b.shape = (3,)\n",
        "We see by rule 1 that the array a has fewer dimensions, so we pad it on the left with ones:\n",
        "\n",
        "a.shape -> (2, 3)\n",
        "b.shape -> (1, 3)\n",
        "By rule 2, we now see that the first dimension disagrees, so we stretch this dimension to match:\n",
        "\n",
        "a.shape -> (2, 3)\n",
        "b.shape -> (2, 3)\n",
        "The shapes match, and we see that the final shape will be (2, 3):"
      ]
    },
    {
      "cell_type": "code",
      "metadata": {
        "id": "fK_6vAvs3v0Y",
        "colab_type": "code",
        "colab": {
          "base_uri": "https://localhost:8080/",
          "height": 71
        },
        "outputId": "3599f56e-acd8-4c78-ff40-b808061bc5e1"
      },
      "source": [
        "s = a+b\n",
        "print(s)\n",
        "s.shape"
      ],
      "execution_count": 66,
      "outputs": [
        {
          "output_type": "stream",
          "text": [
            "[[1. 2. 3.]\n",
            " [1. 2. 3.]]\n"
          ],
          "name": "stdout"
        },
        {
          "output_type": "execute_result",
          "data": {
            "text/plain": [
              "(2, 3)"
            ]
          },
          "metadata": {
            "tags": []
          },
          "execution_count": 66
        }
      ]
    },
    {
      "cell_type": "code",
      "metadata": {
        "id": "ouhTZuue3v0a",
        "colab_type": "code",
        "colab": {}
      },
      "source": [
        "a = np.arange(3).reshape((3,1))\n",
        "b = np.arange(3)"
      ],
      "execution_count": 67,
      "outputs": []
    },
    {
      "cell_type": "markdown",
      "metadata": {
        "id": "s9yfC_Ez3v0b",
        "colab_type": "raw"
      },
      "source": [
        "Again, we'll start by writing out the shape of the arrays:\n",
        "\n",
        "a.shape = (3, 1)\n",
        "b.shape = (3,)\n",
        "Rule 1 says we must pad the shape of b with ones:\n",
        "\n",
        "a.shape -> (3, 1)\n",
        "b.shape -> (1, 3)\n",
        "And rule 2 tells us that we upgrade each of these ones to match the corresponding size of the other array:\n",
        "\n",
        "a.shape -> (3, 3)\n",
        "b.shape -> (3, 3)\n",
        "Because the result matches, these shapes are compatible. We can see this here:"
      ]
    },
    {
      "cell_type": "code",
      "metadata": {
        "id": "CQCoq_ls3v0d",
        "colab_type": "code",
        "colab": {
          "base_uri": "https://localhost:8080/",
          "height": 71
        },
        "outputId": "6eea8926-6db2-4f5e-cb4d-ac30f33241d9"
      },
      "source": [
        "a+b"
      ],
      "execution_count": 68,
      "outputs": [
        {
          "output_type": "execute_result",
          "data": {
            "text/plain": [
              "array([[0, 1, 2],\n",
              "       [1, 2, 3],\n",
              "       [2, 3, 4]])"
            ]
          },
          "metadata": {
            "tags": []
          },
          "execution_count": 68
        }
      ]
    },
    {
      "cell_type": "code",
      "metadata": {
        "id": "WbpnQj7a3v0g",
        "colab_type": "code",
        "colab": {
          "base_uri": "https://localhost:8080/",
          "height": 89
        },
        "outputId": "3120466d-b893-4ab8-e97d-72ff6fe6f129"
      },
      "source": [
        "a = np.ones((3,2))\n",
        "print(a)\n",
        "b = np.arange(3)\n",
        "print(b)"
      ],
      "execution_count": 69,
      "outputs": [
        {
          "output_type": "stream",
          "text": [
            "[[1. 1.]\n",
            " [1. 1.]\n",
            " [1. 1.]]\n",
            "[0 1 2]\n"
          ],
          "name": "stdout"
        }
      ]
    },
    {
      "cell_type": "markdown",
      "metadata": {
        "id": "BUnrBhmW3v0h",
        "colab_type": "raw"
      },
      "source": [
        "This is just a slightly different situation than in the first example: the matrix M is transposed. How does this affect the calculation? The shape of the arrays are\n",
        "\n",
        "M.shape = (3, 2)\n",
        "a.shape = (3,)\n",
        "Again, rule 1 tells us that we must pad the shape of a with ones:\n",
        "\n",
        "M.shape -> (3, 2)\n",
        "a.shape -> (1, 3)\n",
        "By rule 2, the first dimension of a is stretched to match that of M:\n",
        "\n",
        "M.shape -> (3, 2)\n",
        "a.shape -> (3, 3)\n",
        "Now we hit rule 3–the final shapes do not match, so these two arrays are incompatible, as we can observe by attempting this operation:"
      ]
    },
    {
      "cell_type": "code",
      "metadata": {
        "id": "wBTf2oeb3v0h",
        "colab_type": "code",
        "colab": {
          "base_uri": "https://localhost:8080/",
          "height": 172
        },
        "outputId": "22a7b9f6-90d3-474d-e64f-fc535a3feef8"
      },
      "source": [
        "a + b"
      ],
      "execution_count": 70,
      "outputs": [
        {
          "output_type": "error",
          "ename": "ValueError",
          "evalue": "ignored",
          "traceback": [
            "\u001b[0;31m---------------------------------------------------------------------------\u001b[0m",
            "\u001b[0;31mValueError\u001b[0m                                Traceback (most recent call last)",
            "\u001b[0;32m<ipython-input-70-bd58363a63fc>\u001b[0m in \u001b[0;36m<module>\u001b[0;34m()\u001b[0m\n\u001b[0;32m----> 1\u001b[0;31m \u001b[0ma\u001b[0m \u001b[0;34m+\u001b[0m \u001b[0mb\u001b[0m\u001b[0;34m\u001b[0m\u001b[0;34m\u001b[0m\u001b[0m\n\u001b[0m",
            "\u001b[0;31mValueError\u001b[0m: operands could not be broadcast together with shapes (3,2) (3,) "
          ]
        }
      ]
    },
    {
      "cell_type": "markdown",
      "metadata": {
        "id": "WfRL6ID23v0l",
        "colab_type": "raw"
      },
      "source": [
        "Note the potential confusion here: you could imagine making a and a compatible by, say, padding b's shape with ones on the right rather than the left. But this is not how the broadcasting rules work! That sort of flexibility might be useful in some cases, but it would lead to potential areas of ambiguity. If right-side padding is what you'd like, you can do this explicitly by reshaping the array "
      ]
    },
    {
      "cell_type": "code",
      "metadata": {
        "id": "WdrTnwUE3v0l",
        "colab_type": "code",
        "colab": {}
      },
      "source": [
        "c= b[:, np.newaxis]"
      ],
      "execution_count": 71,
      "outputs": []
    },
    {
      "cell_type": "code",
      "metadata": {
        "id": "_DFhJ2TG3v0n",
        "colab_type": "code",
        "colab": {
          "base_uri": "https://localhost:8080/",
          "height": 71
        },
        "outputId": "d52777b9-1ee7-41bc-c9bb-bb066703c2d0"
      },
      "source": [
        "a + c"
      ],
      "execution_count": 72,
      "outputs": [
        {
          "output_type": "execute_result",
          "data": {
            "text/plain": [
              "array([[1., 1.],\n",
              "       [2., 2.],\n",
              "       [3., 3.]])"
            ]
          },
          "metadata": {
            "tags": []
          },
          "execution_count": 72
        }
      ]
    },
    {
      "cell_type": "markdown",
      "metadata": {
        "id": "5g_jboHo3v0y",
        "colab_type": "text"
      },
      "source": [
        "Thanks for your attention!!! "
      ]
    }
  ]
}