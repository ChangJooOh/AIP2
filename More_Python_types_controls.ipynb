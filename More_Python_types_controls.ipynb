{
  "nbformat": 4,
  "nbformat_minor": 0,
  "metadata": {
    "kernelspec": {
      "display_name": "Python 3",
      "language": "python",
      "name": "python3"
    },
    "language_info": {
      "codemirror_mode": {
        "name": "ipython",
        "version": 3
      },
      "file_extension": ".py",
      "mimetype": "text/x-python",
      "name": "python",
      "nbconvert_exporter": "python",
      "pygments_lexer": "ipython3",
      "version": "3.5.1"
    },
    "colab": {
      "name": "Lab02-with_answers.ipynb",
      "provenance": [],
      "include_colab_link": true
    }
  },
  "cells": [
    {
      "cell_type": "markdown",
      "metadata": {
        "id": "view-in-github",
        "colab_type": "text"
      },
      "source": [
        "<a href=\"https://colab.research.google.com/github/ChangJooOh/AIP2/blob/master/More_Python_types_controls.ipynb\" target=\"_parent\"><img src=\"https://colab.research.google.com/assets/colab-badge.svg\" alt=\"Open In Colab\"/></a>"
      ]
    },
    {
      "cell_type": "markdown",
      "metadata": {
        "id": "WvUpFnPIyeij",
        "colab_type": "text"
      },
      "source": [
        "<h3>In this Lab session, you will practice more Python types and controls (conditionals and loops).<br>\n",
        "You will use Python types and conditionals/loops to implement simple programs.\n",
        "</h3>\n",
        "\n",
        "### Lab Goals:\n",
        " 1. Learn more of Python types, and apply more complicated operations. \n",
        " 2. Learn conditionals and loops. \n",
        " 3. Implement simple programs using the types and conditionals/loops.\n",
        " \n",
        "<h4>Note: do not remove assert ... in the code block</h4> "
      ]
    },
    {
      "cell_type": "markdown",
      "metadata": {
        "id": "EMS5DjzAyeil",
        "colab_type": "text"
      },
      "source": [
        "## 1. Boolean Types (1)\n",
        "\n",
        "Values of Boolean type represent either true or false. <br>\n",
        "You can use the keyword True and False to represent Boolean value true and false like following.\n",
        "\n",
        "```python\n",
        "a = True\n",
        "b = False\n",
        "print(a) # this will print True\n",
        "```\n",
        "\n",
        "Now try the Boolean operations in the following cell.<br>\n",
        "Set the values of a and b so that aOrB == True and aAndB == False.<br>\n",
        "For example, what are the values of aOrB and aAndB if you set a,b as following?<br>\n",
        "```python\n",
        "a = True\n",
        "b = False```"
      ]
    },
    {
      "cell_type": "code",
      "metadata": {
        "id": "nv8ilkXdyein",
        "colab_type": "code",
        "colab": {}
      },
      "source": [
        "a = True\n",
        "b = False\n",
        "\n",
        "'''\n",
        "other solution :\n",
        "    a = False\n",
        "    b = True\n",
        "'''\n",
        "\n",
        "aOrB = a or b\n",
        "aAndB = a and b\n",
        "\n",
        "print(\"a or b:\", aOrB)\n",
        "print(\"a and b:\", aAndB)\n",
        "\n",
        "assert aOrB == True\n",
        "assert aAndB == False"
      ],
      "execution_count": null,
      "outputs": []
    },
    {
      "cell_type": "markdown",
      "metadata": {
        "id": "16ZamZxuyeiu",
        "colab_type": "text"
      },
      "source": [
        "## 2. Boolean Types (2)\n",
        "\n",
        "Now in the following cell, change the values of a and b so that<br>\n",
        "aOrB == aAndB."
      ]
    },
    {
      "cell_type": "code",
      "metadata": {
        "id": "zzh5vgq7yeiw",
        "colab_type": "code",
        "colab": {}
      },
      "source": [
        "a = True\n",
        "b = True\n",
        "\n",
        "'''\n",
        "other solution :\n",
        "    a = False\n",
        "    b = False\n",
        "'''\n",
        "\n",
        "aOrB = a or b\n",
        "aAndB = a and b\n",
        "\n",
        "assert aOrB == aAndB"
      ],
      "execution_count": null,
      "outputs": []
    },
    {
      "cell_type": "markdown",
      "metadata": {
        "id": "OiSA8JbTyei3",
        "colab_type": "text"
      },
      "source": [
        "## 3. Boolean Types (3)\n",
        "\n",
        "Now in the following cell, set the values of X and Y so that<br>\n",
        "result1 == True and result2 == False."
      ]
    },
    {
      "cell_type": "code",
      "metadata": {
        "id": "EGgWAFUfyei3",
        "colab_type": "code",
        "colab": {}
      },
      "source": [
        "a = True\n",
        "b = False\n",
        "\n",
        "X = True\n",
        "Y = False\n",
        "\n",
        "result1 = a and (b or X)\n",
        "result2 = (a or b) and Y\n",
        "\n",
        "assert result1 == True\n",
        "assert result2 == False "
      ],
      "execution_count": null,
      "outputs": []
    },
    {
      "cell_type": "markdown",
      "metadata": {
        "collapsed": true,
        "id": "lzodWjvkyei7",
        "colab_type": "text"
      },
      "source": [
        "## 4. Lists (1)\n",
        "\n",
        "List in Python contains a sequence of values. For example, <br>\n",
        "the following code creates a list having 12 strings and assigns it to *lablist*.\n",
        "\n",
        "```python\n",
        "lablist = ['H','e','l','l','o',' ','W','o','r','l','d','!']```\n",
        "\n",
        "Like a string, you can use subscripts to access part of a list like following<br>\n",
        "```python\n",
        "sub1 = lablist[0:5]\n",
        "sub2 = lablist[5:]\n",
        "firstElem = lablist[0]\n",
        "wholeList = lablist[:]  # copies the entire list and assigns it.\n",
        "```\n",
        "\n",
        "Lists have many useful functions.<br>\n",
        "Here are some of the functions with examples:\n",
        "```python\n",
        "lablist.index('o') # gives the position of 'o' in lablist\n",
        "lablist.remove('H') # removes the first occurrence of 'H' from lablist\n",
        "lablist.insert(0, 'H') # inserts 'H' into lablist in position 0\n",
        "lablist.append('!') # inserts '!' at the end of the list\n",
        "lablist.pop()   # removes the last element from the list (and returns it)\n",
        "lablist.pop(0)  # removes the first element from the list (and returns it)\n",
        "lablist.count('o') # gives the number of occurrence of 'o' in the list\n",
        "lablist.reverse()  # reverses the order of elements in the list\n",
        "```\n",
        "Notice that some of the above functions modify lablist itself.\n",
        "\n",
        "Now try above functions in the following cell to understand how they work.<br>\n",
        "Then use the right function to complete the code to copy lablist to copylist.<br>\n",
        "Do not use lablist[:] for copying.\n"
      ]
    },
    {
      "cell_type": "code",
      "metadata": {
        "id": "WKMIHaCWyei7",
        "colab_type": "code",
        "colab": {}
      },
      "source": [
        "lablist = ['H','e','l','l','o',' ','W','o','r','l','d','!']\n",
        "copylist = []\n",
        "# you can test list functions here.\n",
        "\n",
        "for value in lablist:\n",
        "    copylist.append(value) # <-- SOLUTION\n",
        "\n",
        "print(\"copylist:\", copylist)\n",
        "\n",
        "assert not (lablist is copylist)\n",
        "assert lablist == copylist\n"
      ],
      "execution_count": null,
      "outputs": []
    },
    {
      "cell_type": "markdown",
      "metadata": {
        "id": "QvXwEJMTyei-",
        "colab_type": "text"
      },
      "source": [
        "## 5. Lists (2)\n",
        "\n",
        "In this problem, we will create a palindorome list.<br>\n",
        "A palindrome list contains a sequence of characters<br>\n",
        "which reads the same backward or forward. For example, the following lists are palindrome lists.<br>\n",
        "```python\n",
        "l1 = ['a', 'b', 'a']\n",
        "l2 = ['a', 'b', 'c', 'c', 'b', 'a']\n",
        "l3 = ['a', ' ', ' ', 'a']```\n",
        "\n",
        "To create a palindrome list from another list X, you need to reverse the list X and append it at the end of X.<br>\n",
        "For example, a palindrome list l2 that is created from l1 should look like following.\n",
        "```python\n",
        "l1 = ['x', 'y', '!']\n",
        "l2 = ['x', 'y', '!', '!', 'y', 'x']```\n",
        "\n",
        "Now complete the following code to create a palindrome list (plist) from lablist.<br>\n",
        "Note that the first half of the palindrome is already in plist in the following code.<br>\n",
        "Do not do this:\n",
        "```python\n",
        "plist=['H', 'e', 'l', 'l', 'o', ' ', 'W', 'o', 'r', 'l', 'd', '!', '!', 'd', 'l', 'r', 'o', 'W', ' ', 'o', 'l', 'l', 'e', 'H']```"
      ]
    },
    {
      "cell_type": "code",
      "metadata": {
        "id": "ZbCwLLi7yei_",
        "colab_type": "code",
        "colab": {}
      },
      "source": [
        "lablist = ['H','e','l','l','o',' ','W','o','r','l','d','!']\n",
        "plist = lablist[:] \n",
        "\n",
        "# SOLUTION =====================\n",
        "while lablist: # Or while lablist != [] or while len(lablist) > 0\n",
        "    plist.append(lablist.pop())\n",
        "# ==============================\n",
        "\n",
        "print(\"palindrome list:\", plist)\n",
        "\n",
        "assert plist == ['H', 'e', 'l', 'l', 'o', ' ', 'W', 'o', 'r', 'l', 'd', '!', '!', 'd', 'l', 'r', 'o', 'W', ' ', 'o', 'l', 'l', 'e', 'H']"
      ],
      "execution_count": null,
      "outputs": []
    },
    {
      "cell_type": "markdown",
      "metadata": {
        "id": "6-37b2kcyejC",
        "colab_type": "text"
      },
      "source": [
        "## 6. Lists (3)\n",
        "\n",
        "In this problem, we will compute the number of occurrence of an element in a list<br>\n",
        "Complete the following code to count the number of occurrence of value 'l'.<br>\n",
        "Do not use lablist.count() function."
      ]
    },
    {
      "cell_type": "code",
      "metadata": {
        "id": "gP5gy21RyejD",
        "colab_type": "code",
        "colab": {}
      },
      "source": [
        "lablist = ['H','e','l','l','o',' ','W','o','r','l','d','!']\n",
        "count = 0\n",
        "\n",
        "for value in lablist:\n",
        "    if value == 'l': # <-- SOLUTION\n",
        "        count = count + 1 \n",
        "    \n",
        "print(\"count:\", count)\n",
        "assert count == 3 # l appears 3 times in lablist"
      ],
      "execution_count": null,
      "outputs": []
    },
    {
      "cell_type": "markdown",
      "metadata": {
        "id": "4RlQwPOyyejI",
        "colab_type": "text"
      },
      "source": [
        "## 7. Lists (4)\n",
        "\n",
        "Now we will find out the most frequent value in lablist.<br>\n",
        "Complete the following code.<br>\n",
        "This problem might be a bit challenging. If so, work on the rest of the problems first and come back to this one.\n"
      ]
    },
    {
      "cell_type": "code",
      "metadata": {
        "id": "8ScL71-syejI",
        "colab_type": "code",
        "colab": {}
      },
      "source": [
        "lablist = ['H','e','l','l','o',' ','W','o','r','l','d','!']\n",
        "maxVal = \"\" # representing most frequent value \n",
        "maxCount = 0 # count of maxVal in lablist\n",
        "\n",
        "for value in lablist:    \n",
        "    count = 0\n",
        "    for value2 in lablist:\n",
        "        if value2 == value:\n",
        "            count = count + 1\n",
        "            if count > maxCount:\n",
        "                maxCount = count # <- SOLUIONS ========\n",
        "                maxVal = value  # < ===================\n",
        "        \n",
        "print(\"maxVal:\", maxVal)\n",
        "print(\"maxCount:\", maxCount)\n",
        "assert maxVal == 'l'\n",
        "assert maxCount == 3 "
      ],
      "execution_count": null,
      "outputs": []
    },
    {
      "cell_type": "markdown",
      "metadata": {
        "id": "AV9FMiXgyejL",
        "colab_type": "text"
      },
      "source": [
        "## 8. Lists and String\n",
        "\n",
        "We want to copy lablist, but capitalize the strings as we copy.<br>\n",
        "Complete the code in the following cell.<br>\n",
        "You might want to use upper() string function.\n"
      ]
    },
    {
      "cell_type": "code",
      "metadata": {
        "id": "uBUYpvPVyejM",
        "colab_type": "code",
        "colab": {}
      },
      "source": [
        "lablist = ['H','e','l','l','o',' ','W','o','r','l','d','!']\n",
        "capList = []\n",
        "\n",
        "for value in lablist:               # <- SOLUIONS ========\n",
        "    capList.append(value.upper())   # ====================\n",
        "\n",
        "assert capList == ['H', 'E', 'L', 'L', 'O', ' ', 'W', 'O', 'R', 'L', 'D', '!']"
      ],
      "execution_count": null,
      "outputs": []
    },
    {
      "cell_type": "markdown",
      "metadata": {
        "id": "hGrAg4BTyejO",
        "colab_type": "text"
      },
      "source": [
        "## 9. List of Numbers\n",
        "\n",
        "We have a list of numbers in list_to_sum. <br>\n",
        "Now complete the following code to compute the summation of all the numbers in the list."
      ]
    },
    {
      "cell_type": "code",
      "metadata": {
        "id": "RV2Rnrd2yejP",
        "colab_type": "code",
        "colab": {}
      },
      "source": [
        "list_to_sum = [1,3,5,7,9,11]\n",
        "sum_result = 0\n",
        "\n",
        "for value in list_to_sum:        # <- SOLUIONS ========\n",
        "    sum_result += value          # ====================\n",
        "    \n",
        "print(\"sum_result:\", sum_result)\n",
        "assert sum_result == 36"
      ],
      "execution_count": null,
      "outputs": []
    }
  ]
}