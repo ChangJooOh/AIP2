{
 "cells": [
  {
   "cell_type": "markdown",
   "metadata": {},
   "source": [
    "# Tensorflow"
   ]
  },
  {
   "cell_type": "code",
   "execution_count": 3,
   "metadata": {
    "collapsed": false
   },
   "outputs": [],
   "source": [
    "import tensorflow as tf"
   ]
  },
  {
   "cell_type": "markdown",
   "metadata": {},
   "source": [
    "# Our first tensorflow program: Hello world"
   ]
  },
  {
   "cell_type": "code",
   "execution_count": 11,
   "metadata": {
    "collapsed": false
   },
   "outputs": [],
   "source": [
    "h = tf.constant(\"Hello\")\n",
    "w = tf.constant(\" world\")\n",
    "hw = h + w\n"
   ]
  },
  {
   "cell_type": "code",
   "execution_count": 12,
   "metadata": {
    "collapsed": false,
    "scrolled": false
   },
   "outputs": [
    {
     "name": "stdout",
     "output_type": "stream",
     "text": [
      "b'Hello world'\n"
     ]
    },
    {
     "data": {
      "text/plain": [
       "'Hello world'"
      ]
     },
     "execution_count": 12,
     "metadata": {},
     "output_type": "execute_result"
    }
   ],
   "source": [
    "with tf.Session() as sess:\n",
    "    ans = sess.run(hw)\n",
    "    \n",
    "print(ans)\n",
    "#A prefix of 'b' or 'B' is ignored in Python 2; \n",
    "# it indicates that the literal should become a bytes literal in Python 3 \n",
    "\n",
    "ans.decode('utf-8')   # convert it to str "
   ]
  },
  {
   "cell_type": "markdown",
   "metadata": {},
   "source": [
    "# Key concepts of  Tensorflow\n",
    "- Computation graph \n",
    "- Execution"
   ]
  },
  {
   "cell_type": "markdown",
   "metadata": {},
   "source": [
    "# Computation graph\n",
    "- Nodes & Edges\n",
    "- Operations\n",
    "- Benefits of graph computation"
   ]
  },
  {
   "cell_type": "code",
   "execution_count": 13,
   "metadata": {
    "collapsed": false
   },
   "outputs": [
    {
     "ename": "FileNotFoundError",
     "evalue": "[Errno 2] No such file or directory: 'Computation graph.png'",
     "output_type": "error",
     "traceback": [
      "\u001b[0;31m---------------------------------------------------------------------------\u001b[0m",
      "\u001b[0;31mFileNotFoundError\u001b[0m                         Traceback (most recent call last)",
      "\u001b[0;32m<ipython-input-13-81efd8c27552>\u001b[0m in \u001b[0;36m<module>\u001b[0;34m()\u001b[0m\n\u001b[1;32m      1\u001b[0m \u001b[0;32mfrom\u001b[0m \u001b[0mIPython\u001b[0m\u001b[0;34m.\u001b[0m\u001b[0mdisplay\u001b[0m \u001b[0;32mimport\u001b[0m \u001b[0mImage\u001b[0m\u001b[0;34m\u001b[0m\u001b[0m\n\u001b[0;32m----> 2\u001b[0;31m \u001b[0mImage\u001b[0m\u001b[0;34m(\u001b[0m\u001b[0mfilename\u001b[0m\u001b[0;34m=\u001b[0m\u001b[0;34m'Computation graph.png'\u001b[0m\u001b[0;34m)\u001b[0m\u001b[0;34m\u001b[0m\u001b[0m\n\u001b[0m",
      "\u001b[0;32m/usr/local/lib/python3.5/dist-packages/IPython/core/display.py\u001b[0m in \u001b[0;36m__init__\u001b[0;34m(self, data, url, filename, format, embed, width, height, retina, unconfined, metadata)\u001b[0m\n\u001b[1;32m   1149\u001b[0m         \u001b[0mself\u001b[0m\u001b[0;34m.\u001b[0m\u001b[0munconfined\u001b[0m \u001b[0;34m=\u001b[0m \u001b[0munconfined\u001b[0m\u001b[0;34m\u001b[0m\u001b[0m\n\u001b[1;32m   1150\u001b[0m         super(Image, self).__init__(data=data, url=url, filename=filename, \n\u001b[0;32m-> 1151\u001b[0;31m                 metadata=metadata)\n\u001b[0m\u001b[1;32m   1152\u001b[0m \u001b[0;34m\u001b[0m\u001b[0m\n\u001b[1;32m   1153\u001b[0m         \u001b[0;32mif\u001b[0m \u001b[0mself\u001b[0m\u001b[0;34m.\u001b[0m\u001b[0mwidth\u001b[0m \u001b[0;32mis\u001b[0m \u001b[0;32mNone\u001b[0m \u001b[0;32mand\u001b[0m \u001b[0mself\u001b[0m\u001b[0;34m.\u001b[0m\u001b[0mmetadata\u001b[0m\u001b[0;34m.\u001b[0m\u001b[0mget\u001b[0m\u001b[0;34m(\u001b[0m\u001b[0;34m'width'\u001b[0m\u001b[0;34m,\u001b[0m \u001b[0;34m{\u001b[0m\u001b[0;34m}\u001b[0m\u001b[0;34m)\u001b[0m\u001b[0;34m:\u001b[0m\u001b[0;34m\u001b[0m\u001b[0m\n",
      "\u001b[0;32m/usr/local/lib/python3.5/dist-packages/IPython/core/display.py\u001b[0m in \u001b[0;36m__init__\u001b[0;34m(self, data, url, filename, metadata)\u001b[0m\n\u001b[1;32m    607\u001b[0m             \u001b[0mself\u001b[0m\u001b[0;34m.\u001b[0m\u001b[0mmetadata\u001b[0m \u001b[0;34m=\u001b[0m \u001b[0;34m{\u001b[0m\u001b[0;34m}\u001b[0m\u001b[0;34m\u001b[0m\u001b[0m\n\u001b[1;32m    608\u001b[0m \u001b[0;34m\u001b[0m\u001b[0m\n\u001b[0;32m--> 609\u001b[0;31m         \u001b[0mself\u001b[0m\u001b[0;34m.\u001b[0m\u001b[0mreload\u001b[0m\u001b[0;34m(\u001b[0m\u001b[0;34m)\u001b[0m\u001b[0;34m\u001b[0m\u001b[0m\n\u001b[0m\u001b[1;32m    610\u001b[0m         \u001b[0mself\u001b[0m\u001b[0;34m.\u001b[0m\u001b[0m_check_data\u001b[0m\u001b[0;34m(\u001b[0m\u001b[0;34m)\u001b[0m\u001b[0;34m\u001b[0m\u001b[0m\n\u001b[1;32m    611\u001b[0m \u001b[0;34m\u001b[0m\u001b[0m\n",
      "\u001b[0;32m/usr/local/lib/python3.5/dist-packages/IPython/core/display.py\u001b[0m in \u001b[0;36mreload\u001b[0;34m(self)\u001b[0m\n\u001b[1;32m   1180\u001b[0m         \u001b[0;34m\"\"\"Reload the raw data from file or URL.\"\"\"\u001b[0m\u001b[0;34m\u001b[0m\u001b[0m\n\u001b[1;32m   1181\u001b[0m         \u001b[0;32mif\u001b[0m \u001b[0mself\u001b[0m\u001b[0;34m.\u001b[0m\u001b[0membed\u001b[0m\u001b[0;34m:\u001b[0m\u001b[0;34m\u001b[0m\u001b[0m\n\u001b[0;32m-> 1182\u001b[0;31m             \u001b[0msuper\u001b[0m\u001b[0;34m(\u001b[0m\u001b[0mImage\u001b[0m\u001b[0;34m,\u001b[0m\u001b[0mself\u001b[0m\u001b[0;34m)\u001b[0m\u001b[0;34m.\u001b[0m\u001b[0mreload\u001b[0m\u001b[0;34m(\u001b[0m\u001b[0;34m)\u001b[0m\u001b[0;34m\u001b[0m\u001b[0m\n\u001b[0m\u001b[1;32m   1183\u001b[0m             \u001b[0;32mif\u001b[0m \u001b[0mself\u001b[0m\u001b[0;34m.\u001b[0m\u001b[0mretina\u001b[0m\u001b[0;34m:\u001b[0m\u001b[0;34m\u001b[0m\u001b[0m\n\u001b[1;32m   1184\u001b[0m                 \u001b[0mself\u001b[0m\u001b[0;34m.\u001b[0m\u001b[0m_retina_shape\u001b[0m\u001b[0;34m(\u001b[0m\u001b[0;34m)\u001b[0m\u001b[0;34m\u001b[0m\u001b[0m\n",
      "\u001b[0;32m/usr/local/lib/python3.5/dist-packages/IPython/core/display.py\u001b[0m in \u001b[0;36mreload\u001b[0;34m(self)\u001b[0m\n\u001b[1;32m    632\u001b[0m         \u001b[0;34m\"\"\"Reload the raw data from file or URL.\"\"\"\u001b[0m\u001b[0;34m\u001b[0m\u001b[0m\n\u001b[1;32m    633\u001b[0m         \u001b[0;32mif\u001b[0m \u001b[0mself\u001b[0m\u001b[0;34m.\u001b[0m\u001b[0mfilename\u001b[0m \u001b[0;32mis\u001b[0m \u001b[0;32mnot\u001b[0m \u001b[0;32mNone\u001b[0m\u001b[0;34m:\u001b[0m\u001b[0;34m\u001b[0m\u001b[0m\n\u001b[0;32m--> 634\u001b[0;31m             \u001b[0;32mwith\u001b[0m \u001b[0mopen\u001b[0m\u001b[0;34m(\u001b[0m\u001b[0mself\u001b[0m\u001b[0;34m.\u001b[0m\u001b[0mfilename\u001b[0m\u001b[0;34m,\u001b[0m \u001b[0mself\u001b[0m\u001b[0;34m.\u001b[0m\u001b[0m_read_flags\u001b[0m\u001b[0;34m)\u001b[0m \u001b[0;32mas\u001b[0m \u001b[0mf\u001b[0m\u001b[0;34m:\u001b[0m\u001b[0;34m\u001b[0m\u001b[0m\n\u001b[0m\u001b[1;32m    635\u001b[0m                 \u001b[0mself\u001b[0m\u001b[0;34m.\u001b[0m\u001b[0mdata\u001b[0m \u001b[0;34m=\u001b[0m \u001b[0mf\u001b[0m\u001b[0;34m.\u001b[0m\u001b[0mread\u001b[0m\u001b[0;34m(\u001b[0m\u001b[0;34m)\u001b[0m\u001b[0;34m\u001b[0m\u001b[0m\n\u001b[1;32m    636\u001b[0m         \u001b[0;32melif\u001b[0m \u001b[0mself\u001b[0m\u001b[0;34m.\u001b[0m\u001b[0murl\u001b[0m \u001b[0;32mis\u001b[0m \u001b[0;32mnot\u001b[0m \u001b[0;32mNone\u001b[0m\u001b[0;34m:\u001b[0m\u001b[0;34m\u001b[0m\u001b[0m\n",
      "\u001b[0;31mFileNotFoundError\u001b[0m: [Errno 2] No such file or directory: 'Computation graph.png'"
     ]
    }
   ],
   "source": [
    "from IPython.display import Image\n",
    "Image(filename='Computation graph.png')"
   ]
  },
  {
   "cell_type": "markdown",
   "metadata": {},
   "source": [
    "- We create 5 nodes assigned to arbitrarily named variables, a ~ e\n",
    "- The contents of these variables should be regarded as the output of the operation, not operation themselves \n",
    "- But for now we refer to both the output of the operation and operation themselves with the names of corresponding variables."
   ]
  },
  {
   "cell_type": "code",
   "execution_count": 14,
   "metadata": {
    "collapsed": true
   },
   "outputs": [],
   "source": [
    "a = tf.constant(5)\n",
    "b = tf.constant(2)\n",
    "c = a + b\n",
    "d = b + 1\n",
    "e = tf.multiply(c, d)"
   ]
  },
  {
   "cell_type": "markdown",
   "metadata": {},
   "source": [
    "# Execution\n",
    "- Sessions\n",
    "- Fetches"
   ]
  },
  {
   "cell_type": "code",
   "execution_count": 15,
   "metadata": {
    "collapsed": false
   },
   "outputs": [
    {
     "name": "stdout",
     "output_type": "stream",
     "text": [
      "out = 21\n"
     ]
    }
   ],
   "source": [
    "sess = tf.Session()    # session object\n",
    "outs = sess.run(e)     # the session object compute the operation, e. Arguments to run, i.e. [e], are called fetches\n",
    "sess.close()\n",
    "print(\"out = {}\".format(outs))"
   ]
  },
  {
   "cell_type": "code",
   "execution_count": 16,
   "metadata": {
    "collapsed": false
   },
   "outputs": [
    {
     "name": "stdout",
     "output_type": "stream",
     "text": [
      "out = 21\n"
     ]
    }
   ],
   "source": [
    "with tf.Session() as sess:\n",
    "    print(\"out = {}\".format(sess.run(e)))"
   ]
  },
  {
   "cell_type": "markdown",
   "metadata": {},
   "source": [
    "# Creating a computation graph\n",
    "- Right after we import tensorflow, a specific empty default graph is formed. \n",
    "- All the nodes we create are automatically associated with the default graph"
   ]
  },
  {
   "cell_type": "code",
   "execution_count": 18,
   "metadata": {
    "collapsed": false
   },
   "outputs": [
    {
     "name": "stdout",
     "output_type": "stream",
     "text": [
      "<tensorflow.python.framework.ops.Graph object at 0x7fd35b39cb70>\n",
      "<tensorflow.python.framework.ops.Graph object at 0x7fd3583019e8>\n"
     ]
    }
   ],
   "source": [
    "g1 = tf.get_default_graph()  # get default graph\n",
    "g2 = tf.Graph()              # generate new graph\n",
    "\n",
    "print(g1)\n",
    "print(g2)"
   ]
  },
  {
   "cell_type": "code",
   "execution_count": 23,
   "metadata": {
    "collapsed": false
   },
   "outputs": [
    {
     "name": "stdout",
     "output_type": "stream",
     "text": [
      "<tensorflow.python.framework.ops.Graph object at 0x7fd35b39cb70>\n"
     ]
    },
    {
     "data": {
      "text/plain": [
       "False"
      ]
     },
     "execution_count": 23,
     "metadata": {},
     "output_type": "execute_result"
    }
   ],
   "source": [
    "#print(a.graph) is g1   # checks which graph owns the operation, a \n",
    "print(a.graph) is g2"
   ]
  },
  {
   "cell_type": "markdown",
   "metadata": {},
   "source": [
    "# What is Session?\n",
    "- Tensorflow's computation system runs on GPUs which have independent memory system and calculators.\n",
    "- So, we need to associate python objects and data on our end with the computation system\n",
    "- Session object is a Tensorflow object for the association"
   ]
  },
  {
   "cell_type": "code",
   "execution_count": 10,
   "metadata": {
    "collapsed": true
   },
   "outputs": [],
   "source": [
    "sess = tf.Session()"
   ]
  },
  {
   "cell_type": "markdown",
   "metadata": {},
   "source": [
    "# Execution\n",
    "- Tensorflow.Session().run()\n",
    "- From the requested outputs, works backward, computing nodes that must be executed according to the set of dependencies"
   ]
  },
  {
   "cell_type": "code",
   "execution_count": 11,
   "metadata": {
    "collapsed": false
   },
   "outputs": [
    {
     "data": {
      "text/plain": [
       "21"
      ]
     },
     "execution_count": 11,
     "metadata": {},
     "output_type": "execute_result"
    }
   ],
   "source": [
    "sess.run(e)  # we want to compute e, then from e, figure out dependencies between nodes according to the graph, compute e."
   ]
  },
  {
   "cell_type": "code",
   "execution_count": 12,
   "metadata": {
    "collapsed": false
   },
   "outputs": [
    {
     "data": {
      "text/plain": [
       "[21, 3, 7, 2, 5]"
      ]
     },
     "execution_count": 12,
     "metadata": {},
     "output_type": "execute_result"
    }
   ],
   "source": [
    "sess.run([e, d, c, b, a]) # multiple fetches, notice that the order of results = the order of fetches"
   ]
  },
  {
   "cell_type": "code",
   "execution_count": 13,
   "metadata": {
    "collapsed": true
   },
   "outputs": [],
   "source": [
    "sess.close() # strongly recommended for resource management purpose"
   ]
  },
  {
   "cell_type": "markdown",
   "metadata": {},
   "source": [
    "# Flowing Tensors\n",
    "- Node = Operation\n",
    "- Edge = Tensor"
   ]
  },
  {
   "cell_type": "code",
   "execution_count": 14,
   "metadata": {
    "collapsed": true
   },
   "outputs": [],
   "source": [
    "f = tf.add(e, d) # This operation creates actual operation instance, but do not produce actual value until the graph is executed\n",
    "                 # but rather references its to-be-computed result as a handle that can be passed onto another node\n",
    "                 # these handles are tensor objects"
   ]
  },
  {
   "cell_type": "code",
   "execution_count": 15,
   "metadata": {
    "collapsed": false
   },
   "outputs": [
    {
     "name": "stdout",
     "output_type": "stream",
     "text": [
      "Tensor(\"Add:0\", shape=(), dtype=int32)\n"
     ]
    }
   ],
   "source": [
    "print f    # not actual value, handle for the result(not yet computed) of the corresponding operation, tensor"
   ]
  },
  {
   "cell_type": "markdown",
   "metadata": {},
   "source": [
    "### Setting attributes for tensor and operations\n",
    "- name, shape, dtype, ..."
   ]
  },
  {
   "cell_type": "code",
   "execution_count": 16,
   "metadata": {
    "collapsed": false
   },
   "outputs": [
    {
     "name": "stdout",
     "output_type": "stream",
     "text": [
      "Tensor(\"Addition_E_D:0\", shape=(), dtype=int32)\n"
     ]
    }
   ],
   "source": [
    "f = tf.add(e, d, name='Addition_E_D') # shape and dtype of operation are automatically set by the dependencies on the input values\n",
    "print f"
   ]
  },
  {
   "cell_type": "code",
   "execution_count": 17,
   "metadata": {
    "collapsed": false
   },
   "outputs": [
    {
     "name": "stdout",
     "output_type": "stream",
     "text": [
      "Tensor(\"const_3:0\", shape=(3,), dtype=float32)\n"
     ]
    }
   ],
   "source": [
    "h = tf.constant([1,2,3], name='const_3', dtype=tf.float32)\n",
    "print h"
   ]
  },
  {
   "cell_type": "markdown",
   "metadata": {},
   "source": [
    "# Tensor\n",
    "### 1) is the name of an object used in the python api as a handle for the result of an operation in the graph.\n",
    "### 2) is also a mathematical term for n-dimensional arrays\n",
    "- 1 x 1 tensor = scalar\n",
    "- 1 x n tensor = vector\n",
    "- n x n tensor = matrix\n",
    "- n x n x n tensor = 3-dimensional array\n",
    "- ..."
   ]
  },
  {
   "cell_type": "markdown",
   "metadata": {},
   "source": [
    "# Tensor array initialization"
   ]
  },
  {
   "cell_type": "code",
   "execution_count": 18,
   "metadata": {
    "collapsed": true
   },
   "outputs": [],
   "source": [
    "# Random number generation\n",
    "i = tf.Variable(tf.random_normal(shape=[10,10]), name='random_norm')"
   ]
  },
  {
   "cell_type": "code",
   "execution_count": 19,
   "metadata": {
    "collapsed": false
   },
   "outputs": [
    {
     "name": "stdout",
     "output_type": "stream",
     "text": [
      "<tf.Variable 'random_norm:0' shape=(10, 10) dtype=float32_ref>\n"
     ]
    }
   ],
   "source": [
    "sess = tf.Session()\n",
    "sess.run(tf.global_variables_initializer())\n",
    "print i"
   ]
  },
  {
   "cell_type": "code",
   "execution_count": 20,
   "metadata": {
    "collapsed": false
   },
   "outputs": [
    {
     "name": "stdout",
     "output_type": "stream",
     "text": [
      "[[ 1.76543212e+00  4.32564497e-01  9.72211838e-01 -6.43687248e-01\n",
      "  -1.21464290e-01 -1.37247026e+00 -9.36417758e-01 -2.39865974e-01\n",
      "   1.73359960e-01 -6.15796089e-01]\n",
      " [ 7.17706203e-01 -5.83130158e-02  1.15591094e-01 -3.63293588e-01\n",
      "  -1.18528628e+00  2.03466088e-01 -3.18020761e-01  1.49252906e-01\n",
      "   1.21068084e+00  1.61724448e+00]\n",
      " [-7.96645939e-01  1.15474725e+00 -3.21333706e-01  4.43559319e-01\n",
      "  -1.09148395e+00 -2.77464855e-02  1.81540108e+00  1.20130491e+00\n",
      "   1.10164726e+00  2.74230289e+00]\n",
      " [ 4.90358502e-01 -1.33525416e-01  9.21714127e-01  1.12049091e+00\n",
      "  -1.29760131e-01 -8.67207408e-01 -1.14448212e-01  3.10444742e-01\n",
      "   8.16107243e-02  9.44006979e-01]\n",
      " [ 1.01526690e+00  1.08581746e+00  8.32218349e-01  1.82956329e-03\n",
      "  -3.36233109e-01  3.51894170e-01  7.28676736e-01 -8.15776706e-01\n",
      "  -1.43610269e-01 -1.38183042e-01]\n",
      " [-1.16303575e+00  4.76424277e-01  1.41872239e+00  1.52177882e+00\n",
      "   1.02745295e+00  1.01564348e+00 -6.14714861e-01 -1.20882176e-01\n",
      "  -1.25554070e-01  6.62051439e-01]\n",
      " [ 1.29020202e+00  7.94911265e-01 -2.20984554e+00 -6.28462374e-01\n",
      "   1.62653613e+00  1.07774532e+00  1.22504130e-01 -9.88793135e-01\n",
      "   1.09768569e+00  2.23159885e+00]\n",
      " [-2.16830397e+00  2.13437811e-01  8.74156415e-01 -8.31503868e-01\n",
      "  -1.46399423e-01 -3.94881815e-01 -6.10830784e-01 -1.63033593e+00\n",
      "   1.47092268e-01  3.29295099e-01]\n",
      " [-9.28258672e-02  2.19273281e+00  6.02474272e-01 -6.27267063e-01\n",
      "   2.68810183e-01  6.56095505e-01  6.71676517e-01 -3.88856083e-01\n",
      "   1.70886266e+00  1.19880855e+00]\n",
      " [ 4.84252013e-02 -1.14467263e+00 -1.84157118e-01  9.44752216e-01\n",
      "   3.68006974e-01  4.93237674e-02  1.95067003e-01  1.30749047e+00\n",
      "   4.89180952e-01 -1.39254892e+00]]\n"
     ]
    }
   ],
   "source": [
    "print sess.run(i)"
   ]
  },
  {
   "cell_type": "code",
   "execution_count": 21,
   "metadata": {
    "collapsed": true
   },
   "outputs": [],
   "source": [
    "sess.close()"
   ]
  },
  {
   "cell_type": "markdown",
   "metadata": {},
   "source": [
    "# Matrix multiplication\n",
    "- Matrix A: [M x N]\n",
    "- Matrix B: [N x K]\n",
    "- A x B : [M x K]"
   ]
  },
  {
   "cell_type": "code",
   "execution_count": 22,
   "metadata": {
    "collapsed": false
   },
   "outputs": [
    {
     "name": "stdout",
     "output_type": "stream",
     "text": [
      "Matmul(A,B) : [[ 4.9575895e-01  1.8628086e+00  1.2861952e+00  1.9142175e-01\n",
      "  -3.4036922e+00  2.2414093e+00  1.3109031e+00  8.8190734e-01]\n",
      " [ 1.8711339e+00  6.1970348e+00  2.0674398e+00  1.6390033e+00\n",
      "  -4.5526347e+00  3.0976284e+00  7.0880127e-01  1.9912920e+00]\n",
      " [ 1.5207050e+00 -5.9241042e+00 -1.2662030e+00  2.0578046e+00\n",
      "   3.6490829e+00 -4.1264000e+00  2.9452741e-03  4.6974498e-01]\n",
      " [ 4.1289916e+00 -4.1741815e+00  1.2581675e+00  3.9573221e+00\n",
      "   1.2221881e+00 -2.4298873e+00 -4.4353664e-01  1.9756210e+00]\n",
      " [ 9.9584901e-01 -6.0096874e+00  2.5057626e-01  8.3295602e-01\n",
      "   2.4992800e+00 -2.5919039e+00 -1.4965640e+00 -1.4311445e-01]\n",
      " [ 1.8129790e+00 -7.6873016e-01  2.3317926e-01  8.1023496e-01\n",
      "   2.6163244e+00  2.6019347e-01  1.0044088e+00 -4.8376638e-01]\n",
      " [-6.8796176e-01 -7.1675926e-01 -3.2295951e-01 -1.1125695e+00\n",
      "   7.6810992e-01  6.2310338e-01  8.6187714e-01 -9.5701081e-01]\n",
      " [ 2.5271626e+00 -1.1329877e+00  5.3780955e-01  5.5750966e-02\n",
      "   5.6522226e+00  1.5583522e+00  1.6926724e+00 -2.1207931e+00]\n",
      " [ 3.8287621e+00 -3.2631305e-01  2.4302430e+00  1.8408196e+00\n",
      "   1.9938418e+00  1.5550959e+00 -1.0094592e-01 -1.2188792e-02]\n",
      " [-1.8440151e-01 -2.1451929e+00 -2.8432384e+00  4.6494055e-01\n",
      "   5.7310820e+00 -3.6488147e+00 -1.3869411e-01 -1.0000851e+00]]\n",
      "Shape : (10, 8)\n"
     ]
    }
   ],
   "source": [
    "M = 10\n",
    "N = 5\n",
    "K = 8\n",
    "\n",
    "A = tf.Variable(tf.random_normal(shape=[M, N], dtype=tf.float32), name='Matrix_A')\n",
    "B = tf.Variable(tf.random_normal(shape=[N, K], dtype=tf.float32), name='Matrix_B')\n",
    "C = tf.matmul(A, B)\n",
    "\n",
    "sess = tf.InteractiveSession()\n",
    "sess.run(tf.global_variables_initializer())\n",
    "\n",
    "print 'Matmul(A,B) :', C.eval()\n",
    "print 'Shape :', C.get_shape()"
   ]
  },
  {
   "cell_type": "code",
   "execution_count": 23,
   "metadata": {
    "collapsed": true
   },
   "outputs": [],
   "source": [
    "sess.close()"
   ]
  },
  {
   "cell_type": "markdown",
   "metadata": {},
   "source": [
    "# Tensor object name\n",
    "- Note that Tensor objects residing in the same graph cannot have the same name\n",
    "- Automatically followed by the index of tensor in the outputs of the operation that produced it"
   ]
  },
  {
   "cell_type": "code",
   "execution_count": 24,
   "metadata": {
    "collapsed": false
   },
   "outputs": [
    {
     "name": "stdout",
     "output_type": "stream",
     "text": [
      "Matrix_A_1:0\n",
      "Matrix_A_2:0\n"
     ]
    }
   ],
   "source": [
    "A1 = tf.Variable(tf.random_normal(shape=[M, N], dtype=tf.float32), name='Matrix_A')\n",
    "A2 = tf.Variable(tf.random_normal(shape=[M, N], dtype=tf.float32), name='Matrix_A')\n",
    "\n",
    "print A1.name\n",
    "print A2.name"
   ]
  },
  {
   "cell_type": "markdown",
   "metadata": {},
   "source": [
    "# Name scope\n",
    "- heirachical grouping of object names\n",
    "- very useful when dealing with a large, complicated graph"
   ]
  },
  {
   "cell_type": "code",
   "execution_count": 25,
   "metadata": {
    "collapsed": false
   },
   "outputs": [
    {
     "name": "stdout",
     "output_type": "stream",
     "text": [
      "k:0\n",
      "prefix_name/k:0\n",
      "prefix_name/k_1:0\n"
     ]
    }
   ],
   "source": [
    "k1 = tf.constant(1., name='k')\n",
    "with tf.name_scope('prefix_name'):\n",
    "    k2 = tf.constant(1., name='k')\n",
    "    k3 = tf.constant(1., name='k')\n",
    "    \n",
    "print k1.name\n",
    "print k2.name\n",
    "print k3.name"
   ]
  },
  {
   "cell_type": "markdown",
   "metadata": {},
   "source": [
    "# Variables & Placeholder"
   ]
  },
  {
   "cell_type": "code",
   "execution_count": 26,
   "metadata": {
    "collapsed": false
   },
   "outputs": [
    {
     "name": "stdout",
     "output_type": "stream",
     "text": [
      "<tf.Variable 'var:0' shape=(1, 100) dtype=float32_ref>\n",
      "[[ 0.6653831   1.3791506  -0.10195301 -1.6813173   0.8751185   0.01129055\n",
      "  -1.4622062   0.6074679   1.262346    1.8850379  -0.01946986 -0.16157788\n",
      "  -0.7027838  -0.6554051  -0.01522055 -1.52461    -1.2823409   0.44614947\n",
      "  -0.836785   -0.27211922  0.57041836 -2.2181041  -1.646425    0.30064288\n",
      "  -1.5148413  -1.9163382  -0.07588363 -0.14843263  0.38889936 -0.58876044\n",
      "   0.5916117  -1.1125816  -0.8171849  -0.3992469   0.90365696  0.06570981\n",
      "   0.7231378  -1.0638485   1.9087532  -0.7204932   0.6351097   0.5846274\n",
      "   1.5521302   0.15776552  0.42325106  0.57951707  0.8122477  -0.6274473\n",
      "   1.8899337  -0.17532238 -0.5597155   0.27203158  0.5363315  -0.6394399\n",
      "  -1.4160008   0.02431237 -0.53705275 -0.58560103  0.5444054  -1.2710557\n",
      "  -0.6148214   0.37262687 -0.70824623  0.16020577 -0.88495815  0.7797979\n",
      "  -0.12483959  1.4959303   0.69797415  0.13797398 -1.9859734  -1.0090563\n",
      "  -1.0378356  -0.63841     1.3049648  -1.0237182  -1.1568127  -0.13480233\n",
      "   0.472      -0.7348273   0.39346412  0.1185667   0.6244066  -0.3493913\n",
      "  -0.15730108 -0.7738369   1.4978056  -3.9548302  -2.2351487  -1.6785712\n",
      "   1.0263594  -2.1334944   1.4782141   0.2443358   0.32686797  0.10157384\n",
      "  -0.85684025 -0.15669419 -0.5749858  -1.5986487 ]]\n"
     ]
    }
   ],
   "source": [
    "var_a = tf.Variable(tf.random_normal(shape=[1, 100], dtype=tf.float32), name='var')\n",
    "print var_a\n",
    "with tf.Session() as sess:\n",
    "    sess.run(tf.global_variables_initializer())\n",
    "    print sess.run(var_a)"
   ]
  },
  {
   "cell_type": "code",
   "execution_count": 27,
   "metadata": {
    "collapsed": true
   },
   "outputs": [],
   "source": [
    "import numpy as np"
   ]
  },
  {
   "cell_type": "code",
   "execution_count": 28,
   "metadata": {
    "collapsed": false,
    "scrolled": true
   },
   "outputs": [
    {
     "name": "stdout",
     "output_type": "stream",
     "text": [
      "[[ 6.7704554  -4.2027783   0.6966889  -4.504948   -4.071384    1.6463145\n",
      "  -0.21468985  0.3670642  -8.154308    4.197429  ]\n",
      " [-1.1280397   3.2678237   1.7171372  -1.5603057   1.619727    2.0589895\n",
      "   3.198231   -2.7798543  -3.8069863   2.1170576 ]\n",
      " [ 3.5722914  -2.2203355  -1.6268415  -2.5500612  -1.3810587   1.2549694\n",
      "   0.50319207 -1.4301254  -2.8254564   1.5731803 ]\n",
      " [ 1.7295699  -4.0300446  -2.283965    1.634112   -1.9618982  -2.5137799\n",
      "  -3.389064    3.262247    3.814848   -2.3493514 ]\n",
      " [-5.6625667   2.3533108   3.1471574   0.8724818   3.3446507  -0.9331237\n",
      "   3.5602293  -1.37436    -3.361684    1.01857   ]\n",
      " [ 2.208654   -3.7521296  -2.4315162   1.4578652  -1.9096482  -2.698502\n",
      "  -2.529924    3.4339898   2.5193563  -2.118298  ]\n",
      " [-1.0124531   1.7834175   3.238422   -2.535202    0.57820004  3.096833\n",
      "   1.4275998  -3.2354555  -3.9572163   3.272065  ]\n",
      " [ 1.6402011   2.3444574  -3.6304994   1.4234297  -0.5777743   1.8519924\n",
      "  -3.6916685  -0.3501258  10.145537   -3.5752437 ]\n",
      " [ 3.1029468  -2.9242594  -2.8232224   1.8584743  -2.6310258  -2.0179238\n",
      "  -4.2034597   3.9961987   5.3556104  -2.97404   ]\n",
      " [ 9.363311    2.6019008  -2.663109   -6.719274   -2.8997283   7.8664184\n",
      "   0.9050351  -5.4741774  -3.1946158   3.850216  ]]\n"
     ]
    }
   ],
   "source": [
    "val1 = np.random.randn(10, 5)\n",
    "val2 = np.random.randn(5, 10)\n",
    "\n",
    "ph1 = tf.placeholder(dtype=tf.float32, shape=[10, 5])\n",
    "ph2 = tf.placeholder(dtype=tf.float32, shape=[5, 10])\n",
    "rst = tf.matmul(ph1, ph2)\n",
    "\n",
    "with tf.Session() as sess:\n",
    "    sess.run(tf.global_variables_initializer())\n",
    "    print sess.run(rst, feed_dict={ph1:val1, ph2:val2}) # feed placeholders at the execution time"
   ]
  },
  {
   "cell_type": "markdown",
   "metadata": {},
   "source": [
    "# Optimization\n",
    "### Linear regression\n",
    "- y: target variable\n",
    "- x: feature vector\n",
    "- y = x * W + b"
   ]
  },
  {
   "cell_type": "code",
   "execution_count": 35,
   "metadata": {
    "collapsed": true
   },
   "outputs": [],
   "source": [
    "x_data = np.random.randn(2000, 3)\n",
    "w_real = [0.3, 0.5, 0.1]\n",
    "b_real = -0.2\n",
    "noise = np.random.randn(1, 2000) * 0.1\n",
    "\n",
    "temp = np.matmul(w_real, x_data.T) + b_real\n",
    "y_data = temp + noise"
   ]
  },
  {
   "cell_type": "code",
   "execution_count": 36,
   "metadata": {
    "collapsed": true
   },
   "outputs": [],
   "source": [
    "import matplotlib.pylab as plt"
   ]
  },
  {
   "cell_type": "code",
   "execution_count": 38,
   "metadata": {
    "collapsed": false,
    "scrolled": false
   },
   "outputs": [
    {
     "data": {
      "image/png": "[encoded data removed]",
      "text/plain": [
       "<Figure size 360x360 with 1 Axes>"
      ]
     },
     "metadata": {},
     "output_type": "display_data"
    }
   ],
   "source": [
    "plt.figure(figsize=[5,5])\n",
    "plt.xlabel('w * X.T + b')\n",
    "plt.ylabel('y')\n",
    "plt.scatter(temp, y_data)\n",
    "plt.grid(True)\n",
    "plt.tight_layout()\n",
    "plt.show()"
   ]
  },
  {
   "cell_type": "markdown",
   "metadata": {},
   "source": [
    "### Optimization goal\n",
    "- Given x_data and y_data, we want to find w_real and b_real "
   ]
  },
  {
   "cell_type": "code",
   "execution_count": 35,
   "metadata": {
    "collapsed": true
   },
   "outputs": [],
   "source": [
    "# training to predict\n",
    "NUM_STEPS = 10\n",
    "\n",
    "x = tf.placeholder(dtype=tf.float32, shape=[None, 3])\n",
    "y_true = tf.placeholder(dtype=tf.float32, shape=None)\n",
    "\n",
    "with tf.name_scope('inference') as scope:\n",
    "    w = tf.Variable([[0,0,0]],dtype=tf.float32, name='weights')\n",
    "    b = tf.Variable(0, dtype=tf.float32, name='bias')\n",
    "    y_pred = tf.matmul(w, tf.transpose(x)) + b"
   ]
  },
  {
   "cell_type": "markdown",
   "metadata": {},
   "source": [
    "### Loss function\n",
    "- Mean squared error\n",
    "- Cross entropy"
   ]
  },
  {
   "cell_type": "code",
   "execution_count": 36,
   "metadata": {
    "collapsed": true
   },
   "outputs": [],
   "source": [
    "with tf.name_scope('mse') as scope:\n",
    "    mse_loss = tf.reduce_mean(tf.square(y_true - y_pred))"
   ]
  },
  {
   "cell_type": "code",
   "execution_count": 37,
   "metadata": {
    "collapsed": true
   },
   "outputs": [],
   "source": [
    "with tf.name_scope('cross_entropy') as scope:\n",
    "    cross_entropy_loss = tf.reduce_mean(tf.nn.sigmoid_cross_entropy_with_logits(labels=y_true, logits=y_pred))"
   ]
  },
  {
   "cell_type": "markdown",
   "metadata": {},
   "source": [
    "### Training"
   ]
  },
  {
   "cell_type": "code",
   "execution_count": 38,
   "metadata": {
    "collapsed": true
   },
   "outputs": [],
   "source": [
    "with tf.name_scope('train') as scope:\n",
    "    learning_rate = 0.5\n",
    "    optimizer = tf.train.GradientDescentOptimizer(learning_rate)\n",
    "    train = optimizer.minimize(mse_loss)"
   ]
  },
  {
   "cell_type": "code",
   "execution_count": 39,
   "metadata": {
    "collapsed": false
   },
   "outputs": [
    {
     "name": "stdout",
     "output_type": "stream",
     "text": [
      "0 [array([[0.3105729 , 0.49970657, 0.08790597]], dtype=float32), -0.21092714]\n",
      "5 [array([[0.29926383, 0.49876568, 0.09481297]], dtype=float32), -0.1982763]\n",
      "10 [array([[0.29926383, 0.49876568, 0.09481298]], dtype=float32), -0.1982763]\n"
     ]
    }
   ],
   "source": [
    "with tf.Session() as sess:\n",
    "    sess.run(tf.global_variables_initializer())\n",
    "    for step in range(NUM_STEPS):\n",
    "        sess.run(train, feed_dict={x:x_data, y_true:y_data})\n",
    "        if step % 5 == 0:\n",
    "            print step, sess.run([w, b])\n",
    "            \n",
    "    print 10, sess.run([w, b])"
   ]
  },
  {
   "cell_type": "markdown",
   "metadata": {},
   "source": [
    "# Optimization\n",
    "### logistic regression"
   ]
  },
  {
   "cell_type": "code",
   "execution_count": 40,
   "metadata": {
    "collapsed": true
   },
   "outputs": [],
   "source": [
    "def sigmoid(x):\n",
    "    return 1 / (1 + np.exp(-x))"
   ]
  },
  {
   "cell_type": "code",
   "execution_count": 41,
   "metadata": {
    "collapsed": true
   },
   "outputs": [],
   "source": [
    "N = 2000\n",
    "x_data = np.random.randn(N, 3)\n",
    "w_real = [0.3, 0.5, 0.1]\n",
    "b_real = -0.2\n",
    "wxb = np.matmul(w_real, x_data.T) + b_real\n",
    "\n",
    "y_data_pre_noise = sigmoid(wxb)\n",
    "y_data = np.random.binomial(1, y_data_pre_noise)"
   ]
  },
  {
   "cell_type": "code",
   "execution_count": 42,
   "metadata": {
    "collapsed": false
   },
   "outputs": [
    {
     "data": {
      "image/png": "[encoded data removed]",
      "text/plain": [
       "<Figure size 720x360 with 2 Axes>"
      ]
     },
     "metadata": {},
     "output_type": "display_data"
    }
   ],
   "source": [
    "plt.figure(figsize=[10,5])\n",
    "plt.subplot(1,2,1)\n",
    "plt.title('y pre-noise')\n",
    "plt.xlabel('w.T * x + b')\n",
    "plt.ylabel('Pr(y=1|x)')\n",
    "plt.scatter(wxb, y_data_pre_noise)\n",
    "plt.grid(True)\n",
    "\n",
    "plt.subplot(1,2,2)\n",
    "plt.title('y post-noise')\n",
    "plt.xlabel('w.T * x + b')\n",
    "plt.ylabel('y')\n",
    "plt.scatter(wxb, y_data)\n",
    "plt.grid(True)\n",
    "plt.tight_layout()\n",
    "plt.show()"
   ]
  },
  {
   "cell_type": "code",
   "execution_count": 45,
   "metadata": {
    "collapsed": false
   },
   "outputs": [
    {
     "name": "stdout",
     "output_type": "stream",
     "text": [
      "(0, [array([[0.03531037, 0.05989414, 0.00871425]], dtype=float32), -0.02725])\n",
      "(5, [array([[0.15451796, 0.26329753, 0.03964205]], dtype=float32), -0.12354487])\n",
      "(10, [array([[0.21670775, 0.3705548 , 0.05726023]], dtype=float32), -0.17757638])\n",
      "(15, [array([[0.2507458 , 0.42986125, 0.06770609]], dtype=float32), -0.20892145])\n",
      "(20, [array([[0.2699842 , 0.4637024 , 0.07404341]], dtype=float32), -0.2274949])\n",
      "(25, [array([[0.28107464, 0.48338377, 0.0779311 ]], dtype=float32), -0.23863155])\n",
      "(30, [array([[0.28754628, 0.49496192, 0.08032685]], dtype=float32), -0.24535105])\n",
      "(35, [array([[0.29135165, 0.5018208 , 0.08180471]], dtype=float32), -0.24941792])\n",
      "(40, [array([[0.29360032, 0.5059016 , 0.08271566]], dtype=float32), -0.25188252])\n",
      "(45, [array([[0.29493356, 0.508336  , 0.08327626]], dtype=float32), -0.25337657])\n",
      "(50, [array([[0.29559845, 0.5095565 , 0.08356448]], dtype=float32), -0.25413534])\n"
     ]
    }
   ],
   "source": [
    "NUM_STEPS = 50\n",
    "\n",
    "x = tf.placeholder(dtype=tf.float32, shape=[None, 3])\n",
    "y_true = tf.placeholder(dtype=tf.float32, shape=None)\n",
    "\n",
    "with tf.name_scope('inference') as scope:\n",
    "    w = tf.Variable([[0,0,0]],dtype=tf.float32, name='weights')\n",
    "    b = tf.Variable(0, dtype=tf.float32, name='bias')\n",
    "    y_pred = tf.matmul(w, tf.transpose(x)) + b\n",
    "\n",
    "with tf.name_scope('loss'):\n",
    "    loss = tf.nn.sigmoid_cross_entropy_with_logits(labels=y_true, logits=y_pred)\n",
    "    loss = tf.reduce_mean(loss)\n",
    "    \n",
    "with tf.name_scope('train') as scope:\n",
    "    learning_rate = 0.5\n",
    "    optimizer = tf.train.GradientDescentOptimizer(learning_rate)\n",
    "    train = optimizer.minimize(loss)\n",
    "    \n",
    "init = tf.global_variables_initializer()\n",
    "with tf.Session() as sess:\n",
    "    sess.run(init)\n",
    "    for step in range(NUM_STEPS):\n",
    "        sess.run(train, {x:x_data, y_true:y_data})\n",
    "        if step % 5 == 0:\n",
    "            print (step, sess.run([w, b]))\n",
    "            \n",
    "    print (50, sess.run([w, b]))\n"
   ]
  },
  {
   "cell_type": "code",
   "execution_count": null,
   "metadata": {
    "collapsed": true
   },
   "outputs": [],
   "source": []
  },
  {
   "cell_type": "code",
   "execution_count": null,
   "metadata": {
    "collapsed": true
   },
   "outputs": [],
   "source": []
  },
  {
   "cell_type": "code",
   "execution_count": null,
   "metadata": {
    "collapsed": true
   },
   "outputs": [],
   "source": []
  },
  {
   "cell_type": "code",
   "execution_count": null,
   "metadata": {
    "collapsed": true
   },
   "outputs": [],
   "source": []
  },
  {
   "cell_type": "code",
   "execution_count": null,
   "metadata": {
    "collapsed": true
   },
   "outputs": [],
   "source": []
  },
  {
   "cell_type": "code",
   "execution_count": null,
   "metadata": {
    "collapsed": true
   },
   "outputs": [],
   "source": []
  },
  {
   "cell_type": "code",
   "execution_count": null,
   "metadata": {
    "collapsed": true
   },
   "outputs": [],
   "source": []
  },
  {
   "cell_type": "code",
   "execution_count": null,
   "metadata": {
    "collapsed": true
   },
   "outputs": [],
   "source": []
  },
  {
   "cell_type": "code",
   "execution_count": null,
   "metadata": {
    "collapsed": true
   },
   "outputs": [],
   "source": []
  },
  {
   "cell_type": "code",
   "execution_count": null,
   "metadata": {
    "collapsed": true
   },
   "outputs": [],
   "source": []
  },
  {
   "cell_type": "code",
   "execution_count": null,
   "metadata": {
    "collapsed": true
   },
   "outputs": [],
   "source": []
  },
  {
   "cell_type": "code",
   "execution_count": null,
   "metadata": {
    "collapsed": true
   },
   "outputs": [],
   "source": []
  },
  {
   "cell_type": "code",
   "execution_count": null,
   "metadata": {
    "collapsed": true
   },
   "outputs": [],
   "source": []
  },
  {
   "cell_type": "code",
   "execution_count": null,
   "metadata": {
    "collapsed": true
   },
   "outputs": [],
   "source": []
  },
  {
   "cell_type": "code",
   "execution_count": null,
   "metadata": {
    "collapsed": true
   },
   "outputs": [],
   "source": []
  },
  {
   "cell_type": "code",
   "execution_count": null,
   "metadata": {
    "collapsed": true
   },
   "outputs": [],
   "source": []
  }
 ],
 "metadata": {
  "kernelspec": {
   "display_name": "Python 3",
   "language": "python",
   "name": "python3"
  },
  "language_info": {
   "codemirror_mode": {
    "name": "ipython",
    "version": 3
   },
   "file_extension": ".py",
   "mimetype": "text/x-python",
   "name": "python",
   "nbconvert_exporter": "python",
   "pygments_lexer": "ipython3",
   "version": "3.5.2"
  }
 },
 "nbformat": 4,
 "nbformat_minor": 2
}
