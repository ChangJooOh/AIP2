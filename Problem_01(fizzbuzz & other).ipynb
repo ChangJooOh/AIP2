{
  "nbformat": 4,
  "nbformat_minor": 0,
  "metadata": {
    "kernelspec": {
      "display_name": "Python 3",
      "language": "python",
      "name": "python3"
    },
    "language_info": {
      "codemirror_mode": {
        "name": "ipython",
        "version": 3
      },
      "file_extension": ".py",
      "mimetype": "text/x-python",
      "name": "python",
      "nbconvert_exporter": "python",
      "pygments_lexer": "ipython3",
      "version": "3.6.5"
    },
    "colab": {
      "name": "Problem_01.ipynb",
      "provenance": [],
      "include_colab_link": true
    }
  },
  "cells": [
    {
      "cell_type": "markdown",
      "metadata": {
        "id": "view-in-github",
        "colab_type": "text"
      },
      "source": [
        "<a href=\"https://colab.research.google.com/github/ChangJooOh/AIP2/blob/master/Problem_01(fizzbuzz%20%26%20other).ipynb\" target=\"_parent\"><img src=\"https://colab.research.google.com/assets/colab-badge.svg\" alt=\"Open In Colab\"/></a>"
      ]
    },
    {
      "cell_type": "markdown",
      "metadata": {
        "id": "0HqBDDKyxmvZ",
        "colab_type": "text"
      },
      "source": [
        "# Problem\n",
        "This is what we distribute to students."
      ]
    },
    {
      "cell_type": "code",
      "metadata": {
        "id": "6WL7XaAvxmva",
        "colab_type": "code",
        "colab": {}
      },
      "source": [
        "def problem_1(x):\n",
        "    \"\"\" Write code here that returns 'fizz' if x if divisible by 3, 'buzz' if x is divisible by 5\n",
        "        'fizzbuzz' if x is divisible by both three and five, and x otherwise\n",
        "    \"\"\"\n",
        "    pass\n",
        "\n",
        "def problem_2(x):\n",
        "    \"\"\" Write code here that accomplishes the following \n",
        "        \n",
        "        1) Append x to a list\n",
        "        2) If x is even, divide it by 2 and add the resulting number to the list\n",
        "        3) If x is odd, multiply it by 3 and add 1. Add the resulting number to the list\n",
        "        4) Repeat steps 2 and 3 until you reach the number 1\n",
        "        5) Return the list\n",
        "        \n",
        "        HINT: your_list[0] should be x and your_list[-1] should be 1\n",
        "    \"\"\"\n",
        "    pass\n"
      ],
      "execution_count": 1,
      "outputs": []
    },
    {
      "cell_type": "markdown",
      "metadata": {
        "id": "OkVGD0Fgxmvf",
        "colab_type": "text"
      },
      "source": [
        "# Solutions"
      ]
    },
    {
      "cell_type": "code",
      "metadata": {
        "id": "xLSsETEVxmvh",
        "colab_type": "code",
        "colab": {}
      },
      "source": [
        "def solution_1(x):\n",
        "    if x % 15 == 0:\n",
        "        return 'fizzbuzz'\n",
        "    elif x % 5 == 0:\n",
        "        return 'buzz'\n",
        "    elif x % 3 == 0:\n",
        "        return 'fizz'\n",
        "    else:\n",
        "        return x\n",
        "\n",
        "def solution_2(x):\n",
        "    my_list = [x]\n",
        "    while x > 1:\n",
        "        x = (x*3) + 1 if x % 2 else x // 2\n",
        "        my_list.append(x)\n",
        "    return my_list\n"
      ],
      "execution_count": 2,
      "outputs": []
    },
    {
      "cell_type": "code",
      "metadata": {
        "id": "9IMFuk63xqP4",
        "colab_type": "code",
        "colab": {
          "base_uri": "https://localhost:8080/",
          "height": 35
        },
        "outputId": "c2778a7f-e512-4820-a48f-754afd24765c"
      },
      "source": [
        "solution_1(30)"
      ],
      "execution_count": 3,
      "outputs": [
        {
          "output_type": "execute_result",
          "data": {
            "application/vnd.google.colaboratory.intrinsic+json": {
              "type": "string"
            },
            "text/plain": [
              "'fizzbuzz'"
            ]
          },
          "metadata": {
            "tags": []
          },
          "execution_count": 3
        }
      ]
    },
    {
      "cell_type": "code",
      "metadata": {
        "id": "P5lWuxAFxvjw",
        "colab_type": "code",
        "colab": {
          "base_uri": "https://localhost:8080/",
          "height": 35
        },
        "outputId": "73af671e-8498-476f-afa0-59c4ee9a7b5c"
      },
      "source": [
        "solution_2(30)"
      ],
      "execution_count": 4,
      "outputs": [
        {
          "output_type": "execute_result",
          "data": {
            "text/plain": [
              "[30, 15, 46, 23, 70, 35, 106, 53, 160, 80, 40, 20, 10, 5, 16, 8, 4, 2, 1]"
            ]
          },
          "metadata": {
            "tags": []
          },
          "execution_count": 4
        }
      ]
    },
    {
      "cell_type": "code",
      "metadata": {
        "id": "aqismBjWxya4",
        "colab_type": "code",
        "colab": {}
      },
      "source": [
        ""
      ],
      "execution_count": null,
      "outputs": []
    }
  ]
}