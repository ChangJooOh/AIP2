{
  "nbformat": 4,
  "nbformat_minor": 0,
  "metadata": {
    "kernelspec": {
      "display_name": "Python 3",
      "language": "python",
      "name": "python3"
    },
    "language_info": {
      "codemirror_mode": {
        "name": "ipython",
        "version": 3
      },
      "file_extension": ".py",
      "mimetype": "text/x-python",
      "name": "python",
      "nbconvert_exporter": "python",
      "pygments_lexer": "ipython3",
      "version": "3.6.5"
    },
    "colab": {
      "name": "Lab05-with_answers.ipynb",
      "provenance": [],
      "include_colab_link": true
    }
  },
  "cells": [
    {
      "cell_type": "markdown",
      "metadata": {
        "id": "view-in-github",
        "colab_type": "text"
      },
      "source": [
        "<a href=\"https://colab.research.google.com/github/ChangJooOh/AIP2/blob/master/Python_list_with_function%26TicTacToc.ipynb\" target=\"_parent\"><img src=\"https://colab.research.google.com/assets/colab-badge.svg\" alt=\"Open In Colab\"/></a>"
      ]
    },
    {
      "cell_type": "markdown",
      "metadata": {
        "id": "zQpdvwDQy5KT",
        "colab_type": "text"
      },
      "source": [
        "## 1. Playing with List (1)\n",
        "\n",
        "In this exercise, we will implement a Python function that, given a list, <br>\n",
        "shifts the list to the right.<br><br>\n",
        "For example, if you are given list [‘a’, ‘b’, ‘c’, ‘d’], then the function should shift the list elements to the right  to get [‘d’, ‘a’, ‘b’, ‘c’].<br>\n",
        "If the function is given list [1, 3, 5, 7, 9, 11], then the function should modify the list to [11, 1, 3, 5, 7, 9]\n",
        "<br><br>\n",
        "\n",
        "Hint: You might want to use list.pop() function which works like following:\n",
        "```python\n",
        "l=['a','b','c']\n",
        "l.pop(0) # removes the 0'th element. Now l == ['b', 'c']\n",
        "```\n",
        "Also consider using list.insert(position, element)"
      ]
    },
    {
      "cell_type": "code",
      "metadata": {
        "id": "dQNFe1lzy5KU",
        "colab_type": "code",
        "colab": {},
        "outputId": "09ce6037-c2cb-4b6f-b157-928ae0a9beb2"
      },
      "source": [
        "def shift(l):\n",
        "    # Your code here\n",
        "    x = l.pop(len(l)-1)\n",
        "    l.insert(0,x)\n",
        "    return l\n",
        "\n",
        "l = [1,2,3,4,5]\n",
        "l = shift(l)\n",
        "print(\"l:\", l) # this should print [2,3,4,5,1]\n",
        "\n",
        "assert shift([1,2,3]) == [3,1,2]\n",
        "assert shift([1]) == [1]\n",
        "assert shift([1,2,3,4,5]) == [5,1,2,3,4]"
      ],
      "execution_count": null,
      "outputs": [
        {
          "output_type": "stream",
          "text": [
            "l: [5, 1, 2, 3, 4]\n"
          ],
          "name": "stdout"
        }
      ]
    },
    {
      "cell_type": "markdown",
      "metadata": {
        "id": "cYgzKwcFy5KY",
        "colab_type": "text"
      },
      "source": [
        "## 2. Playing with List (2)\n",
        "\n",
        "Now use the function shift() to implement shiftN, which shifts a given list by a given number.<br>\n",
        "For example, shiftN([1,2,3,4], 2) will shift the list 2 times, to return [3,4,1,2].<br>\n",
        "Likewise, shiftN(['a','b','c','d'], 3) will return ['b','c', 'd', 'a'].<br>"
      ]
    },
    {
      "cell_type": "code",
      "metadata": {
        "id": "xkgFRcJdy5KZ",
        "colab_type": "code",
        "colab": {},
        "outputId": "2306db22-45c8-46f5-a557-41a46b045e24"
      },
      "source": [
        "def shiftN(l, n):\n",
        "    for i in range(n):\n",
        "        l = shift(l)\n",
        "    return l\n",
        "\n",
        "l = [1,2,3,4,5]\n",
        "l = shiftN(l, 2)\n",
        "print(\"l:\", l) # this should print [3,4,5,1,2]\n",
        "\n",
        "assert shiftN([1,2,3], 2) == [2,3,1]\n",
        "assert shiftN(['a','b','c'], 0) == ['a','b','c']\n",
        "assert shiftN([1,2,3,4], 0) == [1,2,3,4]"
      ],
      "execution_count": null,
      "outputs": [
        {
          "output_type": "stream",
          "text": [
            "l: [4, 5, 1, 2, 3]\n"
          ],
          "name": "stdout"
        }
      ]
    },
    {
      "cell_type": "markdown",
      "metadata": {
        "id": "zNT34BFhy5Kc",
        "colab_type": "text"
      },
      "source": [
        "## 3. Playing with List (3)\n",
        "\n",
        "Now make shiftN() to work with negative numbers, where negative numbers mean shifting to the left.<br>\n",
        "For example, shiftN([1,2,3], -1) should result in [2,3,1] by shifting to left.<br>\n",
        "shiftN(['a','b','c','d'], -3) should result in ['d','a','b','c'].<br>"
      ]
    },
    {
      "cell_type": "code",
      "metadata": {
        "id": "EDs-h1R0y5Kc",
        "colab_type": "code",
        "colab": {},
        "outputId": "4c57a410-5e26-4259-8049-f839c55317f9"
      },
      "source": [
        "def shiftl(l):    \n",
        "    x = l.pop(0)\n",
        "    l.append(x)\n",
        "    return l\n",
        "\n",
        "def shiftN(l, n):\n",
        "    if n<0:\n",
        "        for i in range(-n):\n",
        "            l = shiftl(l)\n",
        "    else:\n",
        "        for i in range(n):\n",
        "            l = shift(l)\n",
        "    return l\n",
        "            \n",
        "l = [1,2,3,4,5]\n",
        "l = shiftN(l, 2)\n",
        "print(\"l:\", l) # this should print [3,4,5,1,2]\n",
        "l = ['a','b','c']\n",
        "l = shiftN(l, -1)\n",
        "print(\"l:\", l) # this should print ['b','c','a']\n",
        "\n",
        "assert shiftN([1,2,3], 2) == [2,3,1]\n",
        "assert shiftN(['a','b','c'], 0) == ['a','b','c']\n",
        "assert shiftN([1,2,3,4], 0) == [1,2,3,4]\n",
        "assert shiftN([1,2,3,4], -1) == [2,3,4,1]\n",
        "assert shiftN([1,2,3,4], -2) == [3,4,1,2]"
      ],
      "execution_count": null,
      "outputs": [
        {
          "output_type": "stream",
          "text": [
            "l: [4, 5, 1, 2, 3]\n",
            "l: ['b', 'c', 'a']\n"
          ],
          "name": "stdout"
        }
      ]
    },
    {
      "cell_type": "markdown",
      "metadata": {
        "collapsed": true,
        "id": "NfxwYWVyy5Kf",
        "colab_type": "text"
      },
      "source": [
        "## 4. Tic Tac Toe (1)\n",
        "In this problem you will write functions related to Tic Tac Toe.<br>\n",
        "Tic Tac Toe is a game for two players, who take turns marking the space of 3*3 grid.<br>\n",
        "The player who places three of his marker in a row (either horizontally, vertically, or diagonally) wins the game.<br>\n",
        "\n",
        "For example, see the following game, played by 2 player using marker X and marker O.<br>\n",
        "The player with maker X played first.\n",
        "![title](https://upload.wikimedia.org/wikipedia/commons/1/1b/Tic-tac-toe-game-1.svg)\n",
        "\n",
        "In the above game, the player with maker X won the game, because he put three of his makers in the third row.<br>\n",
        "<br>\n",
        "\n",
        "In this problem and following problems, you will implement three functions -- threeInARow(), threeInAColumn(), threeInADiag(), to test if there are three of the given marker in a row, in a column, or in a diagonal line.\n",
        "\n",
        "First, you implement function threeInARow, that takes a list of lists that represents Tic Tac Toe board,<br>\n",
        "and a marker (either “X” or “O” – that is, string X and string O), and returns if the board has three of the given marker in a row. <br>\n",
        "\n",
        "For example, the following board represents the above game in the image after the last move).<br>\n",
        "```python\n",
        "board = [[\"O\",\"\" , \"X\"],\n",
        "         [\"\" ,\"O\", \"O\"],\n",
        "         [\"X\",\"X\", \"X\"]]\n",
        "```\n",
        "\n",
        "For the above board, the function threeInARow should work like folowing:<br>\n",
        "```python\n",
        "print(threeInARow(board, \"X\")) # should print True\n",
        "print(threeInARow(board, \"O\")) # should print False\n",
        "```\n",
        "\n",
        "Note that <b>you just need to check if three of the markers are in a row, not in a column or diagonal line for this exercise.</b>"
      ]
    },
    {
      "cell_type": "code",
      "metadata": {
        "id": "JG43MgFyy5Kf",
        "colab_type": "code",
        "colab": {},
        "outputId": "005b41d3-a8d3-4ebb-d4a1-e03a77df152b"
      },
      "source": [
        "def threeInARow(board, marker):\n",
        "    # your code here\n",
        "    for row in board:\n",
        "        found=True\n",
        "        for c in row:\n",
        "            if c != marker:\n",
        "                found = False\n",
        "                break\n",
        "        if found:\n",
        "            return True\n",
        "    return False\n",
        "\n",
        "board1 = [[\"O\", \"\" , \"X\"],\n",
        "          [\"\" , \"O\", \"\" ],\n",
        "          [\"X\", \"\" , \"\" ]]\n",
        "\n",
        "board2 = [[\"O\", \"\" , \"X\"],\n",
        "          [\"\" , \"O\", \"O\"],\n",
        "          [\"X\", \"X\", \"X\"]]\n",
        "\n",
        "board3 = [[\"O\", \"\" , \"X\"],\n",
        "          [\"\" , \"O\", \"O\"],\n",
        "          [\"X\", \"X\", \"\"]]\n",
        "\n",
        "print(\"three X in a row:\", threeInARow(board1, \"X\"))\n",
        "\n",
        "assert threeInARow(board1, \"X\") == False\n",
        "assert threeInARow(board1, \"O\") == False\n",
        "assert threeInARow(board2, \"X\") == True\n",
        "assert threeInARow(board2, \"O\") == False\n",
        "assert threeInARow(board3, \"X\") == False\n",
        "assert threeInARow(board3, \"O\") == False"
      ],
      "execution_count": null,
      "outputs": [
        {
          "output_type": "stream",
          "text": [
            "three X in a row: False\n"
          ],
          "name": "stdout"
        }
      ]
    },
    {
      "cell_type": "markdown",
      "metadata": {
        "id": "dja_qgniy5Ki",
        "colab_type": "text"
      },
      "source": [
        "## 5. Tic Tac Toe (2)\n",
        "\n",
        "Now implement threeInAColumn, which is similar to threeInARow, but returns True if there are three of the given marker in a column.<br>"
      ]
    },
    {
      "cell_type": "code",
      "metadata": {
        "id": "bUKHa0zRy5Ki",
        "colab_type": "code",
        "colab": {},
        "outputId": "141aa093-6c77-4365-9ead-76753cef5122"
      },
      "source": [
        "def threeInAColumn(board, marker):\n",
        "    for c in range(len(board)):\n",
        "        found = True\n",
        "        for row in board:\n",
        "            if row[c] != marker:\n",
        "                found=False\n",
        "                break\n",
        "        if found:\n",
        "            return True\n",
        "    return False\n",
        "\n",
        "board1 = [[\"O\", \"\" , \"X\"],\n",
        "          [\"\" , \"O\", \"\" ],\n",
        "          [\"X\", \"\" , \"\" ]]\n",
        "\n",
        "board2 = [[\"O\", \"\" , \"X\"],\n",
        "          [\"\" , \"O\", \"X\"],\n",
        "          [\"X\", \"O\", \"X\"]]\n",
        "\n",
        "board3 = [[\"O\", \"\" , \"X\"],\n",
        "          [\"\" , \"O\", \"X\"],\n",
        "          [\"X\", \"O\", \"\"]]\n",
        "\n",
        "print(\"three X in a column:\", threeInAColumn(board2, \"X\"))\n",
        "\n",
        "assert threeInAColumn(board1, \"X\") == False\n",
        "assert threeInAColumn(board1, \"O\") == False\n",
        "assert threeInAColumn(board2, \"X\") == True\n",
        "assert threeInAColumn(board2, \"O\") == False\n",
        "assert threeInAColumn(board3, \"X\") == False\n",
        "assert threeInAColumn(board3, \"O\") == False\n"
      ],
      "execution_count": null,
      "outputs": [
        {
          "output_type": "stream",
          "text": [
            "three X in a column: True\n"
          ],
          "name": "stdout"
        }
      ]
    },
    {
      "cell_type": "markdown",
      "metadata": {
        "id": "G9kOLY3Wy5Kl",
        "colab_type": "text"
      },
      "source": [
        "## 6. Tic Tac Toe (3)\n",
        "\n",
        "Now implement threeInADiag, which is similar to threeInAColumn, but returns True if there are three of the given marker in a diagonal line.<br>"
      ]
    },
    {
      "cell_type": "code",
      "metadata": {
        "id": "rR8FsuTPy5Kl",
        "colab_type": "code",
        "colab": {},
        "outputId": "99907a36-9289-494e-c1c0-36536751ef3a"
      },
      "source": [
        "def threeInADiag(board, marker):\n",
        "    found = True\n",
        "    for c in range(len(board)):\n",
        "        if board[c][c] != marker:\n",
        "            found=False\n",
        "            break\n",
        "    if found:\n",
        "        return True\n",
        "    found = True\n",
        "    for c in range(len(board)):\n",
        "        if board[len(board)-1-c][c] != marker:\n",
        "            found=False\n",
        "            break\n",
        "    if found:\n",
        "        return True\n",
        "    return False\n",
        "\n",
        "board1 = [[\"O\", \"\" , \"X\"],\n",
        "          [\"\" , \"O\", \"\" ],\n",
        "          [\"X\", \"\" , \"O\"]]\n",
        "\n",
        "board2 = [[\"O\", \"\" , \"X\"],\n",
        "          [\"\" , \"X\", \"X\"],\n",
        "          [\"X\", \"O\", \"O\"]]\n",
        "\n",
        "board3 = [[\"O\", \"\" , \"X\"],\n",
        "          [\"\" , \"O\", \"X\"],\n",
        "          [\"X\", \"O\", \"\"]]\n",
        "\n",
        "print(\"three X in a diagonal line:\", threeInADiag(board1, \"O\"))\n",
        "\n",
        "assert threeInADiag(board1, \"X\") == False\n",
        "assert threeInADiag(board1, \"O\") == True\n",
        "assert threeInADiag(board2, \"X\") == True\n",
        "assert threeInADiag(board2, \"O\") == False\n",
        "assert threeInADiag(board3, \"X\") == False\n",
        "assert threeInADiag(board3, \"O\") == False\n"
      ],
      "execution_count": null,
      "outputs": [
        {
          "output_type": "stream",
          "text": [
            "three X in a diagonal line: True\n"
          ],
          "name": "stdout"
        }
      ]
    },
    {
      "cell_type": "markdown",
      "metadata": {
        "id": "l3KcxCXNy5Ko",
        "colab_type": "text"
      },
      "source": [
        "## 7. Tic Tac Toe (4)\n",
        "\n",
        "Implement function findWinner, which takes a Tic Tac Toe board, and returns the marker of the winner.<br>\n",
        "If there is no winner in the game, the function should return None.<br>"
      ]
    },
    {
      "cell_type": "code",
      "metadata": {
        "id": "VI6NwT48y5Kp",
        "colab_type": "code",
        "colab": {},
        "outputId": "d7edc97f-fe53-47c1-9cd6-60aa1fdbe2c5"
      },
      "source": [
        "def findWinner(board):\n",
        "    markers = [\"O\", \"X\"]\n",
        "    for m in markers:\n",
        "        if threeInARow(board, m):\n",
        "            return m\n",
        "        if threeInAColumn(board, m):\n",
        "            return m\n",
        "        if threeInADiag(board, m):\n",
        "            return m        \n",
        "    return None # no winner\n",
        "\n",
        "board1 = [[\"O\", \"\" , \"X\"],\n",
        "          [\"\" , \"O\", \"\" ],\n",
        "          [\"X\", \"\" , \"O\"]]\n",
        "\n",
        "board2 = [[\"O\", \"\" , \"X\"],\n",
        "          [\"\" , \"O\", \"X\"],\n",
        "          [\"X\", \"O\", \"X\"]]\n",
        "\n",
        "board3 = [[\"O\", \"\" , \"X\"],\n",
        "          [\"\" , \"O\", \"X\"],\n",
        "          [\"X\", \"O\", \"\"]]\n",
        "\n",
        "board4 = [[\"O\", \"\" , \"X\"],\n",
        "          [\"\" , \"X\", \"X\"],\n",
        "          [\"X\", \"O\", \"O\"]]\n",
        "\n",
        "print(\"Winner:\", findWinner(board1)) # should print O\n",
        "\n",
        "assert findWinner(board1) == \"O\"\n",
        "assert findWinner(board2) == \"X\"\n",
        "assert findWinner(board3) == None\n",
        "assert findWinner(board4) == \"X\""
      ],
      "execution_count": null,
      "outputs": [
        {
          "output_type": "stream",
          "text": [
            "Winner: O\n"
          ],
          "name": "stdout"
        }
      ]
    },
    {
      "cell_type": "markdown",
      "metadata": {
        "id": "ye0vupzcy5Kr",
        "colab_type": "text"
      },
      "source": [
        "\n",
        "\n",
        "### You are done!\n",
        "### Please submit your solution and logout before you leave."
      ]
    }
  ]
}