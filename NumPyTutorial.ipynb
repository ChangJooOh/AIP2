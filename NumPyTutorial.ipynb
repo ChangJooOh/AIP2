{
  "nbformat": 4,
  "nbformat_minor": 0,
  "metadata": {
    "colab": {
      "name": "NumPyTutorial.ipynb",
      "provenance": [],
      "include_colab_link": true
    },
    "kernelspec": {
      "display_name": "Python 3",
      "language": "python",
      "name": "python3"
    },
    "language_info": {
      "codemirror_mode": {
        "name": "ipython",
        "version": 3
      },
      "file_extension": ".py",
      "mimetype": "text/x-python",
      "name": "python",
      "nbconvert_exporter": "python",
      "pygments_lexer": "ipython3",
      "version": "3.6.5"
    }
  },
  "cells": [
    {
      "cell_type": "markdown",
      "metadata": {
        "id": "view-in-github",
        "colab_type": "text"
      },
      "source": [
        "<a href=\"https://colab.research.google.com/github/ChangJooOh/AIP2/blob/master/NumPyTutorial.ipynb\" target=\"_parent\"><img src=\"https://colab.research.google.com/assets/colab-badge.svg\" alt=\"Open In Colab\"/></a>"
      ]
    },
    {
      "cell_type": "code",
      "metadata": {
        "colab_type": "code",
        "id": "SpWSXP2ggh7A",
        "colab": {}
      },
      "source": [
        "import numpy as np"
      ],
      "execution_count": 7,
      "outputs": []
    },
    {
      "cell_type": "markdown",
      "metadata": {
        "colab_type": "text",
        "id": "fvO7QpMegh7L"
      },
      "source": [
        "### NumPy is the fundamental package for scientific computing with Python. Extremely useful!"
      ]
    },
    {
      "cell_type": "markdown",
      "metadata": {
        "colab_type": "text",
        "id": "gW9z0-icgh7N"
      },
      "source": [
        " links used:\n",
        "https://docs.scipy.org/doc/numpy/reference/arrays.indexing.html                        "
      ]
    },
    {
      "cell_type": "markdown",
      "metadata": {
        "colab_type": "text",
        "id": "rO2_qrWagh7Q"
      },
      "source": [
        "### Basic Arrays: much like lists but stores data of same type"
      ]
    },
    {
      "cell_type": "markdown",
      "metadata": {
        "colab_type": "text",
        "id": "s4DhDvKggh7S"
      },
      "source": [
        "#### Array Creation"
      ]
    },
    {
      "cell_type": "code",
      "metadata": {
        "colab_type": "code",
        "id": "Woqzap0lgh7V",
        "colab": {
          "base_uri": "https://localhost:8080/",
          "height": 35
        },
        "outputId": "2176c6f9-4b39-445a-c3a1-d89878412813"
      },
      "source": [
        "digits = np.arange(0, 10, 1)  # create an array from [0,10), counting by 1\n",
        "digits"
      ],
      "execution_count": 8,
      "outputs": [
        {
          "output_type": "execute_result",
          "data": {
            "text/plain": [
              "array([0, 1, 2, 3, 4, 5, 6, 7, 8, 9])"
            ]
          },
          "metadata": {
            "tags": []
          },
          "execution_count": 8
        }
      ]
    },
    {
      "cell_type": "code",
      "metadata": {
        "colab_type": "code",
        "id": "dgVkVUBRgh7f",
        "colab": {
          "base_uri": "https://localhost:8080/",
          "height": 35
        },
        "outputId": "a0479cb3-478b-4d6d-803b-e09a9cc17c42"
      },
      "source": [
        "digits.ndim  # in numpy language dimensions = axis"
      ],
      "execution_count": 9,
      "outputs": [
        {
          "output_type": "execute_result",
          "data": {
            "text/plain": [
              "1"
            ]
          },
          "metadata": {
            "tags": []
          },
          "execution_count": 9
        }
      ]
    },
    {
      "cell_type": "code",
      "metadata": {
        "colab_type": "code",
        "id": "nY2FeBYOgh7m",
        "colab": {
          "base_uri": "https://localhost:8080/",
          "height": 53
        },
        "outputId": "0ef4766c-ab30-4c23-a3d7-96ed04925ec4"
      },
      "source": [
        "digits_2D = digits.reshape(2,5) # same values, different shape\n",
        "digits_2D"
      ],
      "execution_count": 10,
      "outputs": [
        {
          "output_type": "execute_result",
          "data": {
            "text/plain": [
              "array([[0, 1, 2, 3, 4],\n",
              "       [5, 6, 7, 8, 9]])"
            ]
          },
          "metadata": {
            "tags": []
          },
          "execution_count": 10
        }
      ]
    },
    {
      "cell_type": "code",
      "metadata": {
        "colab_type": "code",
        "id": "bBLUGG5Jgh7t",
        "colab": {
          "base_uri": "https://localhost:8080/",
          "height": 53
        },
        "outputId": "d76d7f71-2bcc-4ee8-932d-fe4a683ade90"
      },
      "source": [
        "print(digits_2D.dtype)\n",
        "digits_2D.ndim"
      ],
      "execution_count": 11,
      "outputs": [
        {
          "output_type": "stream",
          "text": [
            "int64\n"
          ],
          "name": "stdout"
        },
        {
          "output_type": "execute_result",
          "data": {
            "text/plain": [
              "2"
            ]
          },
          "metadata": {
            "tags": []
          },
          "execution_count": 11
        }
      ]
    },
    {
      "cell_type": "code",
      "metadata": {
        "colab_type": "code",
        "id": "_2sT85_-gh73",
        "colab": {
          "base_uri": "https://localhost:8080/",
          "height": 53
        },
        "outputId": "255e5d95-cda0-4a6b-98e7-c57e8d99bbb2"
      },
      "source": [
        "python_list = [2.3, 3.4, 4.5, 5.6, 6.7]\n",
        "b = np.array(python_list)  # create array from python list\n",
        "print(b.dtype)\n",
        "b"
      ],
      "execution_count": 12,
      "outputs": [
        {
          "output_type": "stream",
          "text": [
            "float64\n"
          ],
          "name": "stdout"
        },
        {
          "output_type": "execute_result",
          "data": {
            "text/plain": [
              "array([2.3, 3.4, 4.5, 5.6, 6.7])"
            ]
          },
          "metadata": {
            "tags": []
          },
          "execution_count": 12
        }
      ]
    },
    {
      "cell_type": "code",
      "metadata": {
        "colab_type": "code",
        "id": "ljLLlewFgh8A",
        "colab": {
          "base_uri": "https://localhost:8080/",
          "height": 71
        },
        "outputId": "15a36617-ba45-420b-f932-18f8e4525f76"
      },
      "source": [
        "np.zeros( (3,4) )  # create array of zeros, can also create array of ones, np.ones()"
      ],
      "execution_count": 13,
      "outputs": [
        {
          "output_type": "execute_result",
          "data": {
            "text/plain": [
              "array([[0., 0., 0., 0.],\n",
              "       [0., 0., 0., 0.],\n",
              "       [0., 0., 0., 0.]])"
            ]
          },
          "metadata": {
            "tags": []
          },
          "execution_count": 13
        }
      ]
    },
    {
      "cell_type": "code",
      "metadata": {
        "colab_type": "code",
        "id": "ZIwjzDsDgh8L",
        "colab": {
          "base_uri": "https://localhost:8080/",
          "height": 53
        },
        "outputId": "0b9b6699-0a81-4ec1-fe5f-04cf908324e3"
      },
      "source": [
        "random_array = np.random.random((2,100))  # values [0,1)\n",
        "print(random_array.shape)\n",
        "random_array[0,50]"
      ],
      "execution_count": 14,
      "outputs": [
        {
          "output_type": "stream",
          "text": [
            "(2, 100)\n"
          ],
          "name": "stdout"
        },
        {
          "output_type": "execute_result",
          "data": {
            "text/plain": [
              "0.9560130231484748"
            ]
          },
          "metadata": {
            "tags": []
          },
          "execution_count": 14
        }
      ]
    },
    {
      "cell_type": "markdown",
      "metadata": {
        "colab_type": "text",
        "id": "3zgWezPYgh8R"
      },
      "source": [
        "#### Array Manipulation"
      ]
    },
    {
      "cell_type": "code",
      "metadata": {
        "colab_type": "code",
        "id": "bZspmVtggh8S",
        "colab": {
          "base_uri": "https://localhost:8080/",
          "height": 71
        },
        "outputId": "cc52364a-db75-4a25-9599-e5d494f0ad5f"
      },
      "source": [
        "print(\"a before adding 2: \", digits)  # numpy language these are examples of broadcasting\n",
        "digits += 2   # equivalent to a = a + 2\n",
        "print(\"a after adding 2: \", digits)\n",
        "digits **= 2\n",
        "print(\"a after squaring: \", digits)"
      ],
      "execution_count": 15,
      "outputs": [
        {
          "output_type": "stream",
          "text": [
            "a before adding 2:  [0 1 2 3 4 5 6 7 8 9]\n",
            "a after adding 2:  [ 2  3  4  5  6  7  8  9 10 11]\n",
            "a after squaring:  [  4   9  16  25  36  49  64  81 100 121]\n"
          ],
          "name": "stdout"
        }
      ]
    },
    {
      "cell_type": "code",
      "metadata": {
        "colab_type": "code",
        "id": "KS_k2_Zkgh8a",
        "colab": {
          "base_uri": "https://localhost:8080/",
          "height": 53
        },
        "outputId": "4b0177be-951b-4998-8bc0-be868f92c217"
      },
      "source": [
        "x = np.array([[0., 1., 2.],  # shape: (2, 3)\n",
        "            [3., 4., 5]])\n",
        "y = np.array([0.1, .5, 1.])   # shape: (3, )\n",
        "x + y  # more nuanced example of broadcasting"
      ],
      "execution_count": 16,
      "outputs": [
        {
          "output_type": "execute_result",
          "data": {
            "text/plain": [
              "array([[0.1, 1.5, 3. ],\n",
              "       [3.1, 4.5, 6. ]])"
            ]
          },
          "metadata": {
            "tags": []
          },
          "execution_count": 16
        }
      ]
    },
    {
      "cell_type": "code",
      "metadata": {
        "colab_type": "code",
        "id": "MowfS3yEgh8g",
        "colab": {
          "base_uri": "https://localhost:8080/",
          "height": 71
        },
        "outputId": "7f754eb5-3eca-4ec8-a08f-ac383b885ced"
      },
      "source": [
        "print(random_array.min())\n",
        "print(random_array.max())\n",
        "print(random_array.mean())"
      ],
      "execution_count": 17,
      "outputs": [
        {
          "output_type": "stream",
          "text": [
            "0.004213504809258972\n",
            "0.9941868511337081\n",
            "0.5243163504148142\n"
          ],
          "name": "stdout"
        }
      ]
    },
    {
      "cell_type": "code",
      "metadata": {
        "colab_type": "code",
        "id": "33J-cSj9gh8n",
        "colab": {
          "base_uri": "https://localhost:8080/",
          "height": 197
        },
        "outputId": "e3a75628-4b50-4596-d100-010fe9ed2ab2"
      },
      "source": [
        "array = np.arange(16).reshape(2,2,2,2)\n",
        "print(array.shape) \n",
        "print(array.ndim)  \n",
        "print(\"\\n\")\n",
        "array = array.reshape(4,4)\n",
        "print(array.shape) \n",
        "print(array.ndim)  # notice the number of dimensions (axis) equals number of digits in reshape\n",
        "array"
      ],
      "execution_count": 18,
      "outputs": [
        {
          "output_type": "stream",
          "text": [
            "(2, 2, 2, 2)\n",
            "4\n",
            "\n",
            "\n",
            "(4, 4)\n",
            "2\n"
          ],
          "name": "stdout"
        },
        {
          "output_type": "execute_result",
          "data": {
            "text/plain": [
              "array([[ 0,  1,  2,  3],\n",
              "       [ 4,  5,  6,  7],\n",
              "       [ 8,  9, 10, 11],\n",
              "       [12, 13, 14, 15]])"
            ]
          },
          "metadata": {
            "tags": []
          },
          "execution_count": 18
        }
      ]
    },
    {
      "cell_type": "code",
      "metadata": {
        "colab_type": "code",
        "id": "lLd8Wxmpgh8u",
        "colab": {
          "base_uri": "https://localhost:8080/",
          "height": 53
        },
        "outputId": "1e784737-fa17-4c70-edc2-4f5f65daf436"
      },
      "source": [
        "# .sum(axis=n) dimension n is collapsed \n",
        "# and all values in the new matrix equal to the sum of the corresponding collapsed values\n",
        "cols_sum = array.sum(axis=0)\n",
        "print(\"sum of columns:\", cols_sum)\n",
        "rows_sum = array.sum(axis=1)\n",
        "print(\"sum of rows:\", rows_sum)"
      ],
      "execution_count": 19,
      "outputs": [
        {
          "output_type": "stream",
          "text": [
            "sum of columns: [24 28 32 36]\n",
            "sum of rows: [ 6 22 38 54]\n"
          ],
          "name": "stdout"
        }
      ]
    },
    {
      "cell_type": "markdown",
      "metadata": {
        "colab_type": "text",
        "id": "B5OsYh4Hgh82"
      },
      "source": [
        "Be aware there are several other common built in functions not shown in this tutorial.                                                           \n",
        "I.E)   \n",
        "np.sqrt(B)                           \n",
        "A.dot(B) "
      ]
    },
    {
      "cell_type": "markdown",
      "metadata": {
        "colab_type": "text",
        "id": "PrlKsGmrgh87"
      },
      "source": [
        "### Indexing & Slicing"
      ]
    },
    {
      "cell_type": "code",
      "metadata": {
        "colab_type": "code",
        "id": "F8cJQi92gh89",
        "colab": {
          "base_uri": "https://localhost:8080/",
          "height": 53
        },
        "outputId": "ebecae7d-e5ae-4631-c20e-b589314c3fa1"
      },
      "source": [
        "a = np.arange(10)\n",
        "print(a)\n",
        "a[2]  # index like a python list"
      ],
      "execution_count": 20,
      "outputs": [
        {
          "output_type": "stream",
          "text": [
            "[0 1 2 3 4 5 6 7 8 9]\n"
          ],
          "name": "stdout"
        },
        {
          "output_type": "execute_result",
          "data": {
            "text/plain": [
              "2"
            ]
          },
          "metadata": {
            "tags": []
          },
          "execution_count": 20
        }
      ]
    },
    {
      "cell_type": "markdown",
      "metadata": {
        "colab_type": "text",
        "id": "EOi6l-x7gh9C"
      },
      "source": [
        "#### Slicing\n",
        "basic format:   i:j:k where i is the starting index, j is the stopping index, and k is the step"
      ]
    },
    {
      "cell_type": "code",
      "metadata": {
        "colab_type": "code",
        "id": "n7hBmCuIgh9E",
        "colab": {
          "base_uri": "https://localhost:8080/",
          "height": 71
        },
        "outputId": "6229fdec-3e09-498f-f896-c7ddeb62243c"
      },
      "source": [
        "print(a)\n",
        "print(a[1:7:2])  # start at index 1, stop at index < 7, 2 steps at a time\n",
        "print(a[slice(1,7,2)]) "
      ],
      "execution_count": 21,
      "outputs": [
        {
          "output_type": "stream",
          "text": [
            "[0 1 2 3 4 5 6 7 8 9]\n",
            "[1 3 5]\n",
            "[1 3 5]\n"
          ],
          "name": "stdout"
        }
      ]
    },
    {
      "cell_type": "code",
      "metadata": {
        "colab_type": "code",
        "id": "Nbnh5I-7gh9O",
        "colab": {
          "base_uri": "https://localhost:8080/",
          "height": 107
        },
        "outputId": "8f83b131-f429-4ffd-ac8e-38c9eca4aed4"
      },
      "source": [
        "B = np.arange(16).reshape(4,4)\n",
        "print((B))\n",
        "B[2,3]  # index multidimensional arrays with a comma"
      ],
      "execution_count": 22,
      "outputs": [
        {
          "output_type": "stream",
          "text": [
            "[[ 0  1  2  3]\n",
            " [ 4  5  6  7]\n",
            " [ 8  9 10 11]\n",
            " [12 13 14 15]]\n"
          ],
          "name": "stdout"
        },
        {
          "output_type": "execute_result",
          "data": {
            "text/plain": [
              "11"
            ]
          },
          "metadata": {
            "tags": []
          },
          "execution_count": 22
        }
      ]
    },
    {
      "cell_type": "code",
      "metadata": {
        "colab_type": "code",
        "id": "7U4QluPhgh9Y",
        "colab": {
          "base_uri": "https://localhost:8080/",
          "height": 197
        },
        "outputId": "67639bbf-9789-4c84-d6cc-2f7441d9f316"
      },
      "source": [
        "print(B, \"\\n\")\n",
        "print(B[0:2,:], \"\\n\")  #  index first 2 rows\n",
        "print(B[slice(0,2, None),slice(None, None, None)])  #  index first 2 rows"
      ],
      "execution_count": 23,
      "outputs": [
        {
          "output_type": "stream",
          "text": [
            "[[ 0  1  2  3]\n",
            " [ 4  5  6  7]\n",
            " [ 8  9 10 11]\n",
            " [12 13 14 15]] \n",
            "\n",
            "[[0 1 2 3]\n",
            " [4 5 6 7]] \n",
            "\n",
            "[[0 1 2 3]\n",
            " [4 5 6 7]]\n"
          ],
          "name": "stdout"
        }
      ]
    },
    {
      "cell_type": "code",
      "metadata": {
        "colab_type": "code",
        "id": "pWMPuYITgh9c",
        "colab": {
          "base_uri": "https://localhost:8080/",
          "height": 89
        },
        "outputId": "166726f2-e128-4ad7-882e-def0ce9d85b9"
      },
      "source": [
        "print(a)\n",
        "third_val = a[2:3]  # note that basic indexing returns a view of the same data (not a copy)\n",
        "print(\"third_val initially: \", third_val)\n",
        "a[2] = -1\n",
        "print(\"array after changing third_val: \", a)  \n",
        "print(\"third_val: \", third_val)  # why do you think basic indexing returns a view?"
      ],
      "execution_count": 24,
      "outputs": [
        {
          "output_type": "stream",
          "text": [
            "[0 1 2 3 4 5 6 7 8 9]\n",
            "third_val initially:  [2]\n",
            "array after changing third_val:  [ 0  1 -1  3  4  5  6  7  8  9]\n",
            "third_val:  [-1]\n"
          ],
          "name": "stdout"
        }
      ]
    },
    {
      "cell_type": "markdown",
      "metadata": {
        "colab_type": "text",
        "id": "7xTc_PfYgh9f"
      },
      "source": [
        "### Advanced Indexing"
      ]
    },
    {
      "cell_type": "markdown",
      "metadata": {
        "colab_type": "text",
        "id": "OZ1wFpO9gh9f"
      },
      "source": [
        "#### Numpy array triggers advanced indexing"
      ]
    },
    {
      "cell_type": "code",
      "metadata": {
        "colab_type": "code",
        "id": "G--3yeeVgh9g",
        "colab": {
          "base_uri": "https://localhost:8080/",
          "height": 53
        },
        "outputId": "0cee192f-5b26-47c2-cc8d-07bcb66e16e0"
      },
      "source": [
        "print(a)\n",
        "indices = np.array([0,1,2,3])\n",
        "a[indices]"
      ],
      "execution_count": 25,
      "outputs": [
        {
          "output_type": "stream",
          "text": [
            "[ 0  1 -1  3  4  5  6  7  8  9]\n"
          ],
          "name": "stdout"
        },
        {
          "output_type": "execute_result",
          "data": {
            "text/plain": [
              "array([ 0,  1, -1,  3])"
            ]
          },
          "metadata": {
            "tags": []
          },
          "execution_count": 25
        }
      ]
    },
    {
      "cell_type": "markdown",
      "metadata": {
        "colab_type": "text",
        "id": "6Kq6KM9igh9q"
      },
      "source": [
        "#### Boolean values trigger advanced indexing"
      ]
    },
    {
      "cell_type": "code",
      "metadata": {
        "colab_type": "code",
        "id": "Si9I1r6igh9q",
        "colab": {
          "base_uri": "https://localhost:8080/",
          "height": 53
        },
        "outputId": "cb9c6871-ef3c-4351-d688-95f396647d25"
      },
      "source": [
        "print(a)\n",
        "boolean = a < 6\n",
        "a[boolean]"
      ],
      "execution_count": 26,
      "outputs": [
        {
          "output_type": "stream",
          "text": [
            "[ 0  1 -1  3  4  5  6  7  8  9]\n"
          ],
          "name": "stdout"
        },
        {
          "output_type": "execute_result",
          "data": {
            "text/plain": [
              "array([ 0,  1, -1,  3,  4,  5])"
            ]
          },
          "metadata": {
            "tags": []
          },
          "execution_count": 26
        }
      ]
    },
    {
      "cell_type": "markdown",
      "metadata": {
        "colab_type": "text",
        "id": "u2InjtrIgh9v"
      },
      "source": [
        "#### Non-tuple sequence (e.g. list) of integers or boolean values"
      ]
    },
    {
      "cell_type": "code",
      "metadata": {
        "colab_type": "code",
        "id": "5tLFx7qHgh9w",
        "colab": {
          "base_uri": "https://localhost:8080/",
          "height": 35
        },
        "outputId": "45349b8a-f2fa-4818-9d9f-b3113b7b8e2a"
      },
      "source": [
        "indices = list(indices)\n",
        "a[indices]"
      ],
      "execution_count": 27,
      "outputs": [
        {
          "output_type": "execute_result",
          "data": {
            "text/plain": [
              "array([ 0,  1, -1,  3])"
            ]
          },
          "metadata": {
            "tags": []
          },
          "execution_count": 27
        }
      ]
    },
    {
      "cell_type": "markdown",
      "metadata": {
        "colab_type": "text",
        "id": "Q39SOl8Kgh91"
      },
      "source": [
        "Tuple containing at least one other sequence object (e.g. tuple, list) or NumPy array   \n",
        "example: x[np.array([0]), 0, 1], x[(0, 1), (0, 2)]"
      ]
    },
    {
      "cell_type": "markdown",
      "metadata": {
        "colab_type": "text",
        "id": "-ZpFUtNYgh92"
      },
      "source": [
        "#### Advanced Indexing: Copy"
      ]
    },
    {
      "cell_type": "code",
      "metadata": {
        "colab_type": "code",
        "id": "rJT7-8ekgh92",
        "colab": {
          "base_uri": "https://localhost:8080/",
          "height": 53
        },
        "outputId": "d27d758c-94e8-4e20-b63d-691b28314688"
      },
      "source": [
        "x = a[indices]  # advanced indexing creates a copy when its on the right side of an assignment \n",
        "x\n",
        "a[indices] = -5\n",
        "print(a)\n",
        "print(x)"
      ],
      "execution_count": 28,
      "outputs": [
        {
          "output_type": "stream",
          "text": [
            "[-5 -5 -5 -5  4  5  6  7  8  9]\n",
            "[ 0  1 -1  3]\n"
          ],
          "name": "stdout"
        }
      ]
    },
    {
      "cell_type": "code",
      "metadata": {
        "colab_type": "code",
        "id": "jao-dSZBgh9_",
        "colab": {
          "base_uri": "https://localhost:8080/",
          "height": 35
        },
        "outputId": "100115f6-f814-4a6b-da87-7f685aac7824"
      },
      "source": [
        "last_two_indices = [-1,-2]  # negative numbers mean you start indexing from the left (end of array)\n",
        "a[last_two_indices] = 10  # advanced indexing on left broadcast-updates an array (same as view)\n",
        "a"
      ],
      "execution_count": 29,
      "outputs": [
        {
          "output_type": "execute_result",
          "data": {
            "text/plain": [
              "array([-5, -5, -5, -5,  4,  5,  6,  7, 10, 10])"
            ]
          },
          "metadata": {
            "tags": []
          },
          "execution_count": 29
        }
      ]
    }
  ]
}