{
  "nbformat": 4,
  "nbformat_minor": 0,
  "metadata": {
    "colab": {
      "name": "AIP2LAB(0327).ipynb",
      "provenance": [],
      "authorship_tag": "ABX9TyNbB/hxiMYDKPLUUJK4UKDd",
      "include_colab_link": true
    },
    "kernelspec": {
      "name": "python3",
      "display_name": "Python 3"
    }
  },
  "cells": [
    {
      "cell_type": "markdown",
      "metadata": {
        "id": "view-in-github",
        "colab_type": "text"
      },
      "source": [
        "<a href=\"https://colab.research.google.com/github/ChangJooOh/AIP2/blob/master/Dictionary%26ModularProgramming.ipynb\" target=\"_parent\"><img src=\"https://colab.research.google.com/assets/colab-badge.svg\" alt=\"Open In Colab\"/></a>"
      ]
    },
    {
      "cell_type": "code",
      "metadata": {
        "id": "2YKrcdmkVY8m",
        "colab_type": "code",
        "colab": {
          "base_uri": "https://localhost:8080/",
          "height": 71
        },
        "outputId": "3f1819f0-027f-487e-c345-ebdf5465625d"
      },
      "source": [
        "# Dictionaries... \n",
        "# Define Dictionary\n",
        "dict1 = {\"Changju Oh\":[20200327, 2020],\n",
        "         \"Kuhyuen Ko\":[20190103, 2019],\n",
        "         \"Jungi Lee\": [20190207, 2019]}\n",
        "dict1"
      ],
      "execution_count": null,
      "outputs": [
        {
          "output_type": "execute_result",
          "data": {
            "text/plain": [
              "{'Changju Oh': [20200327, 2020],\n",
              " 'Jungi Lee': [20190207, 2019],\n",
              " 'Kuhyuen Ko': [20190103, 2019]}"
            ]
          },
          "metadata": {
            "tags": []
          },
          "execution_count": 7
        }
      ]
    },
    {
      "cell_type": "code",
      "metadata": {
        "id": "X7lB67IGWNKr",
        "colab_type": "code",
        "colab": {}
      },
      "source": [
        "# add another data on \"dict1\"\n",
        "dict1[\"Arlan Kalin:\"] = [20192013, 2019]"
      ],
      "execution_count": null,
      "outputs": []
    },
    {
      "cell_type": "code",
      "metadata": {
        "id": "MprxD0b_Wsu2",
        "colab_type": "code",
        "colab": {
          "base_uri": "https://localhost:8080/",
          "height": 89
        },
        "outputId": "3cd94ed6-d8ad-48df-a4f5-179cc726ac56"
      },
      "source": [
        "dict1"
      ],
      "execution_count": null,
      "outputs": [
        {
          "output_type": "execute_result",
          "data": {
            "text/plain": [
              "{'Arlan Kalin:': [20192013, 2019],\n",
              " 'Changju Oh': [20200327, 2020],\n",
              " 'Jungi Lee': [20190207, 2019],\n",
              " 'Kuhyuen Ko': [20190103, 2019]}"
            ]
          },
          "metadata": {
            "tags": []
          },
          "execution_count": 9
        }
      ]
    },
    {
      "cell_type": "code",
      "metadata": {
        "id": "PLqXb44-W3nW",
        "colab_type": "code",
        "colab": {
          "base_uri": "https://localhost:8080/",
          "height": 107
        },
        "outputId": "5deb5ee3-b621-442d-c97d-7ff555428388"
      },
      "source": [
        "# use buile-in function : update()\n",
        "dict1.update({\"Hoyeon Chung\":[20161259, 2016]})\n",
        "dict1"
      ],
      "execution_count": null,
      "outputs": [
        {
          "output_type": "execute_result",
          "data": {
            "text/plain": [
              "{'Arlan Kalin:': [20192013, 2019],\n",
              " 'Changju Oh': [20200327, 2020],\n",
              " 'Hoyeon Chung': [20161259, 2016],\n",
              " 'Jungi Lee': [20190207, 2019],\n",
              " 'Kuhyuen Ko': [20190103, 2019]}"
            ]
          },
          "metadata": {
            "tags": []
          },
          "execution_count": 10
        }
      ]
    },
    {
      "cell_type": "code",
      "metadata": {
        "id": "AGYXdvsXXUyY",
        "colab_type": "code",
        "colab": {
          "base_uri": "https://localhost:8080/",
          "height": 35
        },
        "outputId": "a086fae1-122d-4b25-cb79-78f1746c5caa"
      },
      "source": [
        "# Now with conditions and loops, find the student whose first name starts with 'A' and store this list \n",
        "result = []\n",
        "for i in dict1:\n",
        "  if i[0] == 'A':\n",
        "    result.append(dict1[i] [0])\n",
        "print(result)"
      ],
      "execution_count": null,
      "outputs": [
        {
          "output_type": "stream",
          "text": [
            "[20192013]\n"
          ],
          "name": "stdout"
        }
      ]
    },
    {
      "cell_type": "code",
      "metadata": {
        "id": "oXWXy4J8YRlg",
        "colab_type": "code",
        "colab": {
          "base_uri": "https://localhost:8080/",
          "height": 35
        },
        "outputId": "72a5a5a2-6d61-4871-8c51-7a29e899c301"
      },
      "source": [
        "# Modular Programming : A function can call other function ... \n",
        "# Prime number \n",
        "def n_Prime(number):\n",
        "  if number == 2:\n",
        "    return True \n",
        "  mode = 0 # False\n",
        "  for i in range(2, number):\n",
        "    P = number % i\n",
        "    if P == 0:\n",
        "      mode = 1 \n",
        "  if mode == 1:\n",
        "    return False\n",
        "  return True\n",
        "print(\"is 2 a prime number?\", n_Prime(2))\n"
      ],
      "execution_count": null,
      "outputs": [
        {
          "output_type": "stream",
          "text": [
            "is 2 a prime number? True\n"
          ],
          "name": "stdout"
        }
      ]
    },
    {
      "cell_type": "code",
      "metadata": {
        "id": "JS97x3LHagpb",
        "colab_type": "code",
        "colab": {
          "base_uri": "https://localhost:8080/",
          "height": 35
        },
        "outputId": "ddc99edf-39e0-491e-ce0c-68f05ad94343"
      },
      "source": [
        "# Now use the n_Prime function to count prime number in a given inteval \n",
        "# For modular programming, make a function \"count_Prime\"\n",
        "# count_Prime(2,5) return 3 because there are 3 primes(2,3,5) between 2 and 5\n",
        "def count_Prime(start_num, end_num):\n",
        "  count = 0\n",
        "  for i in range(start_num, end_num+1):\n",
        "    if n_Prime(i) == True:\n",
        "      count = count + 1\n",
        "  return count\n",
        "print(\"Prime number count (2 ~ 20)\", count_Prime(2,20))"
      ],
      "execution_count": null,
      "outputs": [
        {
          "output_type": "stream",
          "text": [
            "Prime number count (2 ~ 20) 8\n"
          ],
          "name": "stdout"
        }
      ]
    },
    {
      "cell_type": "code",
      "metadata": {
        "id": "q6SSx9RVccuO",
        "colab_type": "code",
        "colab": {
          "base_uri": "https://localhost:8080/",
          "height": 35
        },
        "outputId": "5fed6edf-c46d-459a-b7cf-5dee34b7e62e"
      },
      "source": [
        "# Fibonacci series \n",
        "def fibo(number):\n",
        "  a, b = 1,1 \n",
        "  for i in range(number-1):\n",
        "    a, b = b, a+b\n",
        "  return a\n",
        "print(fibo(10))"
      ],
      "execution_count": null,
      "outputs": [
        {
          "output_type": "stream",
          "text": [
            "55\n"
          ],
          "name": "stdout"
        }
      ]
    },
    {
      "cell_type": "code",
      "metadata": {
        "id": "pYWBcokCdTAp",
        "colab_type": "code",
        "colab": {
          "base_uri": "https://localhost:8080/",
          "height": 53
        },
        "outputId": "d6315a8a-413f-4d58-c7ff-cbdfba81e989"
      },
      "source": [
        "def fibo(number):\n",
        "  a = 0\n",
        "  b = 1\n",
        "  count = 0\n",
        "  if number <= 0:\n",
        "    print(\"Plz enter a postive number~~\")\n",
        "  elif number == 1:\n",
        "    print(\"Your fibonacci sequence upto \", number, \":\")\n",
        "  else:\n",
        "    print(\"Your fibonacci sequence upto \", number, \":\")\n",
        "    while count < number:\n",
        "      print(a, end=\" , \")\n",
        "      nth = a + b\n",
        "      a = b \n",
        "      b = nth \n",
        "      count += 1\n",
        "print(fibo(5)) "
      ],
      "execution_count": null,
      "outputs": [
        {
          "output_type": "stream",
          "text": [
            "Your fibonacci sequence upto  5 :\n",
            "0 , 1 , 1 , 2 , 3 , None\n"
          ],
          "name": "stdout"
        }
      ]
    },
    {
      "cell_type": "code",
      "metadata": {
        "id": "yFvf8qHjeaqx",
        "colab_type": "code",
        "colab": {
          "base_uri": "https://localhost:8080/",
          "height": 35
        },
        "outputId": "32641582-603f-4244-bf09-5ff73b9ddd98"
      },
      "source": [
        "# recursive function type \n",
        "def fibo1(number):\n",
        "  if number == 1 or number == 2:\n",
        "    return 1\n",
        "  return fibo1(number-1) + fibo1(number-2)\n",
        "print(fibo1(5))"
      ],
      "execution_count": null,
      "outputs": [
        {
          "output_type": "stream",
          "text": [
            "5\n"
          ],
          "name": "stdout"
        }
      ]
    },
    {
      "cell_type": "code",
      "metadata": {
        "id": "Uib1GUvg9Z95",
        "colab_type": "code",
        "colab": {}
      },
      "source": [
        ""
      ],
      "execution_count": null,
      "outputs": []
    }
  ]
}