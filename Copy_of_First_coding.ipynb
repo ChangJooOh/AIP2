{
  "nbformat": 4,
  "nbformat_minor": 0,
  "metadata": {
    "colab": {
      "name": "Copy of First coding.ipynb",
      "provenance": [],
      "collapsed_sections": [],
      "authorship_tag": "ABX9TyMRzvKek3OwbneMyf9KCiwn",
      "include_colab_link": true
    },
    "kernelspec": {
      "name": "python3",
      "display_name": "Python 3"
    }
  },
  "cells": [
    {
      "cell_type": "markdown",
      "metadata": {
        "id": "view-in-github",
        "colab_type": "text"
      },
      "source": [
        "<a href=\"https://colab.research.google.com/github/ChangJooOh/AIP2/blob/master/Copy_of_First_coding.ipynb\" target=\"_parent\"><img src=\"https://colab.research.google.com/assets/colab-badge.svg\" alt=\"Open In Colab\"/></a>"
      ]
    },
    {
      "cell_type": "code",
      "metadata": {
        "id": "eYQz5FWBOJ4r",
        "colab_type": "code",
        "colab": {
          "base_uri": "https://localhost:8080/",
          "height": 35
        },
        "outputId": "ff536672-1a42-499b-d8b7-2bb2c1297a6c"
      },
      "source": [
        "print('Welcome to UNIST!')"
      ],
      "execution_count": null,
      "outputs": [
        {
          "output_type": "stream",
          "text": [
            "Welcome to UNIST!\n"
          ],
          "name": "stdout"
        }
      ]
    },
    {
      "cell_type": "code",
      "metadata": {
        "id": "luOFduuHOzki",
        "colab_type": "code",
        "colab": {
          "base_uri": "https://localhost:8080/",
          "height": 69
        },
        "outputId": "7e789df6-ae73-4508-e738-3299a53574ee"
      },
      "source": [
        "# Define Dictionary\n",
        "dict1 = {\"Changju Oh\":[20200000, 2020],\n",
        "         \"Sung Whan Yoon\": [20190000, 2019], \n",
        "         \"In woo Lee\":[20201227, 2020]}\n",
        "dict1"
      ],
      "execution_count": null,
      "outputs": [
        {
          "output_type": "execute_result",
          "data": {
            "text/plain": [
              "{'Changju Oh': [20200000, 2020],\n",
              " 'In woo Lee': [20201227, 2020],\n",
              " 'Sung Whan Yoon': [20190000, 2019]}"
            ]
          },
          "metadata": {
            "tags": []
          },
          "execution_count": 3
        }
      ]
    },
    {
      "cell_type": "code",
      "metadata": {
        "id": "R7JoU0wAPWtf",
        "colab_type": "code",
        "colab": {}
      },
      "source": [
        "# Keep press \"shift\" key + press \"enter\" key --> for execution in colab and jupyter \n",
        "dict1[\"Chan ju Park:\"] = [20192013, 2019]"
      ],
      "execution_count": null,
      "outputs": []
    },
    {
      "cell_type": "code",
      "metadata": {
        "id": "3bzqHQhbPvdW",
        "colab_type": "code",
        "colab": {
          "base_uri": "https://localhost:8080/",
          "height": 87
        },
        "outputId": "02d17606-aa55-4fc4-b9a4-ec006574db08"
      },
      "source": [
        "dict1"
      ],
      "execution_count": null,
      "outputs": [
        {
          "output_type": "execute_result",
          "data": {
            "text/plain": [
              "{'Chan ju Park:': [20192013, 2019],\n",
              " 'Changju Oh': [20200000, 2020],\n",
              " 'In woo Lee': [20201227, 2020],\n",
              " 'Sung Whan Yoon': [20190000, 2019]}"
            ]
          },
          "metadata": {
            "tags": []
          },
          "execution_count": 5
        }
      ]
    },
    {
      "cell_type": "code",
      "metadata": {
        "id": "HlgzjDqSPxOG",
        "colab_type": "code",
        "colab": {
          "base_uri": "https://localhost:8080/",
          "height": 104
        },
        "outputId": "84438ee3-9e20-436c-8b3f-778ed21ddb83"
      },
      "source": [
        "dict1.update({\"Min jeong Kim\":[20201042, 2020]})\n",
        "dict1"
      ],
      "execution_count": null,
      "outputs": [
        {
          "output_type": "execute_result",
          "data": {
            "text/plain": [
              "{'Chan ju Park:': [20192013, 2019],\n",
              " 'Changju Oh': [20200000, 2020],\n",
              " 'In woo Lee': [20201227, 2020],\n",
              " 'Min jeong Kim': [20201042, 2020],\n",
              " 'Sung Whan Yoon': [20190000, 2019]}"
            ]
          },
          "metadata": {
            "tags": []
          },
          "execution_count": 6
        }
      ]
    },
    {
      "cell_type": "code",
      "metadata": {
        "id": "46cu2PeyQSf3",
        "colab_type": "code",
        "colab": {}
      },
      "source": [
        "# Now with conditions and loops, find the student whose last name starts with 'M' and store in the list\n"
      ],
      "execution_count": null,
      "outputs": []
    },
    {
      "cell_type": "code",
      "metadata": {
        "id": "IBUT0EjAQltG",
        "colab_type": "code",
        "colab": {
          "base_uri": "https://localhost:8080/",
          "height": 35
        },
        "outputId": "1c3159f4-a92f-45fd-b79e-2cbd044b70bd"
      },
      "source": [
        "result = [] # define list \n",
        "for i in dict1:\n",
        "  if i[0] == 'M':\n",
        "    result.append(dict1[i][0])\n",
        "print(result)"
      ],
      "execution_count": null,
      "outputs": [
        {
          "output_type": "stream",
          "text": [
            "[20201042]\n"
          ],
          "name": "stdout"
        }
      ]
    },
    {
      "cell_type": "code",
      "metadata": {
        "id": "P4SpNViMRYHc",
        "colab_type": "code",
        "colab": {
          "base_uri": "https://localhost:8080/",
          "height": 35
        },
        "outputId": "2eb75bd6-af15-427e-b232-61661a1bfbed"
      },
      "source": [
        "# my email address : cjoh@unist.ac.kr   \n",
        "# my phone number : 6333\n",
        "# Modular programming : A function can call other function \n",
        "# Prime number \n",
        "def nPrime(number):\n",
        "  if number == 2:\n",
        "    return True\n",
        "  mode = 0 # false : boolean \n",
        "  for i in range(2, number):\n",
        "    p = number % i \n",
        "    if p == 0:\n",
        "      mode = 1\n",
        "  if mode == 1:\n",
        "    return False\n",
        "  return True\n",
        "print(\"is 2 a prime number?\", nPrime(2))"
      ],
      "execution_count": null,
      "outputs": [
        {
          "output_type": "stream",
          "text": [
            "is 2 a prime number? True\n"
          ],
          "name": "stdout"
        }
      ]
    },
    {
      "cell_type": "code",
      "metadata": {
        "id": "ZmR9CRX5T1SH",
        "colab_type": "code",
        "colab": {
          "base_uri": "https://localhost:8080/",
          "height": 35
        },
        "outputId": "0d81d7a0-c7b1-4c5f-b5ec-0e3d3a1ebe48"
      },
      "source": [
        "# Now use the nPrime function to count prime number in a given inteval \n",
        "# For modular programming, make a function \"count_Prime\"\n",
        "# count_Prime(2,5) return 3 because there are 3 primes(2,3,5) between 2 and 5\n",
        "def count_Prime(start_num, end_num):\n",
        "  count = 0\n",
        "  for i in range(start_num, end_num+1):\n",
        "    if nPrime(i) == True:\n",
        "      count += 1\n",
        "  return count\n",
        "print(\"Prime number count(2~20)\", count_Prime(2,20))"
      ],
      "execution_count": null,
      "outputs": [
        {
          "output_type": "stream",
          "text": [
            "Prime number count(2~20) 8\n"
          ],
          "name": "stdout"
        }
      ]
    },
    {
      "cell_type": "code",
      "metadata": {
        "id": "JryWL12UUrhp",
        "colab_type": "code",
        "colab": {}
      },
      "source": [
        ""
      ],
      "execution_count": null,
      "outputs": []
    }
  ]
}